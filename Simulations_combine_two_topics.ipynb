{
  "nbformat": 4,
  "nbformat_minor": 0,
  "metadata": {
    "colab": {
      "provenance": [],
      "authorship_tag": "ABX9TyN42DHLNtqfhJY2OYk+83FS",
      "include_colab_link": true
    },
    "kernelspec": {
      "name": "python3",
      "display_name": "Python 3"
    },
    "language_info": {
      "name": "python"
    }
  },
  "cells": [
    {
      "cell_type": "markdown",
      "metadata": {
        "id": "view-in-github",
        "colab_type": "text"
      },
      "source": [
        "<a href=\"https://colab.research.google.com/github/muminjia/next-token-prediction/blob/main/Simulations_combine_two_topics.ipynb\" target=\"_parent\"><img src=\"https://colab.research.google.com/assets/colab-badge.svg\" alt=\"Open In Colab\"/></a>"
      ]
    },
    {
      "cell_type": "code",
      "source": [
        "import random\n",
        "import copy\n",
        "import itertools\n",
        "from collections import defaultdict\n",
        "import numpy as np\n",
        "import numpy.linalg as npl\n",
        "import torch\n",
        "import torch.nn as nn\n",
        "import torch.nn.functional as F\n",
        "from sklearn.svm import LinearSVC\n",
        "import cvxpy as cp\n",
        "from data_utils_m import *\n",
        "from nxt_token_solver_m import W_svm_solver_cvxpy, R_solver, Tarjan\n",
        "\n",
        "from base_nonlinear import MLayerAttn\n",
        "from utils import *\n",
        "from train_utils_m import train_W, train_Wfin\n",
        "from visualizer import show_corr, show_norm_diff, show_proj_corr, show_attn_probs, show_attn_probs_neg\n",
        "\n",
        "import time"
      ],
      "metadata": {
        "id": "csYaLOcKmUZH"
      },
      "execution_count": 1,
      "outputs": []
    },
    {
      "cell_type": "code",
      "source": [
        "starttime = time.time()"
      ],
      "metadata": {
        "id": "zp6f6ykn-FGG"
      },
      "execution_count": 2,
      "outputs": []
    },
    {
      "cell_type": "markdown",
      "source": [
        "## Parameters"
      ],
      "metadata": {
        "id": "xJimz58Ne3Bj"
      }
    },
    {
      "cell_type": "markdown",
      "source": [
        "### Numeric Settings"
      ],
      "metadata": {
        "id": "lPeAsHSEe7oV"
      }
    },
    {
      "cell_type": "code",
      "source": [
        "K = 8  # Vocabulary size\n",
        "L = 4  # Number of arrows to randomly choose\n",
        "T = 4 # the length of sequence (not include the next token)\n",
        "n = 100 # Number of sequence in each dataset\n",
        "d = 8 # dim of embedding token"
      ],
      "metadata": {
        "id": "pjKghJhTC_qU"
      },
      "execution_count": 3,
      "outputs": []
    },
    {
      "cell_type": "markdown",
      "source": [
        "### Data Parameters"
      ],
      "metadata": {
        "id": "U8mIAWGTfND4"
      }
    },
    {
      "cell_type": "code",
      "source": [
        "token_choice = 'random' # ['equi-corr', 'ortho', 'random']\n",
        "cls_choice = 'iden'\n",
        "same_last_token = False\n",
        "rep_seq = False\n",
        "check_label = True\n",
        "check_asyc = False\n",
        "\n",
        "toy_case = False\n",
        "batch_toy = False\n",
        "custom_initialize = False\n",
        "\n",
        "separa = False # Whether the last token can map to different labels"
      ],
      "metadata": {
        "id": "5KzinenFfSb1"
      },
      "execution_count": 4,
      "outputs": []
    },
    {
      "cell_type": "markdown",
      "source": [
        "### Attention Model Parameters\n"
      ],
      "metadata": {
        "id": "mAygR8Txf4OJ"
      }
    },
    {
      "cell_type": "code",
      "source": [
        "loss_type = 'nll' # ['ce', 'nll', 'corr', 'lsq2', 'mse']\n",
        "\n",
        "nlayer = 1 # number of layers\n",
        "\n",
        "skip = False # add skip connection to every attention output\n",
        "layer_norm = False # add layer norm to every attention output\n",
        "avg_norm = False\n",
        "factorize_w = False # use W or (Q, K)\n",
        "\n",
        "initialize_w = 'default' # 'default': random initialization, 'zero': initialize W as zero matrix, 'random': random initialization with varying variance\n",
        "strong_default = False\n",
        "initialize_wfin = 'zero'\n",
        "\n",
        "reg_wfin = 0 # regularization for W_fin\n",
        "# W_fin must be initialized as zero matrix\n",
        "\n",
        "lr = 0.01\n",
        "\n",
        "epochs = 1\n",
        "ITN = 4000\n",
        "\n",
        "norm_grad = True\n",
        "\n",
        "Wi_list = np.zeros((nlayer, ITN, d, d))\n",
        "sol_cvx_list = np.zeros((nlayer, d, d))\n",
        "Wi_norm_list = np.zeros((nlayer, epochs, ITN))\n",
        "\n",
        "dlist = [8]\n",
        "attn_probs = np.zeros((len(dlist), epochs, ITN))\n",
        "corr_list = np.zeros((len(dlist), 2, epochs, ITN))"
      ],
      "metadata": {
        "id": "jS33V8yWf32E"
      },
      "execution_count": 5,
      "outputs": []
    },
    {
      "cell_type": "code",
      "source": [
        "def customize_seed(seed): # {topic 1: seed = 42, topic 2: seed = 99, combine: seed = 22}\n",
        "    random.seed(seed) # select_arrows_for_each_token() and find_and_add_missing_relationships()\n",
        "    np.random.seed(seed) # step 2.3 of generate_sequence_from_tpgs()\n",
        "    torch.manual_seed(seed)"
      ],
      "metadata": {
        "id": "qd78ZcFsUwZA"
      },
      "execution_count": 6,
      "outputs": []
    },
    {
      "cell_type": "markdown",
      "source": [
        "## Part 1: Generate TPGs"
      ],
      "metadata": {
        "id": "SyR-0mFIl9p0"
      }
    },
    {
      "cell_type": "markdown",
      "source": [
        "### Step 1. Define K and L"
      ],
      "metadata": {
        "id": "Oxr6aDZy3LeW"
      }
    },
    {
      "cell_type": "markdown",
      "source": [
        "### Step 2. Randomly choose  𝐿  (# of arrows) couples for each token"
      ],
      "metadata": {
        "id": "5qg4sTaV3ctJ"
      }
    },
    {
      "cell_type": "code",
      "source": [
        "# Get all possible directed edges (ei -> ej where ei != ej)\n",
        "all_possible_edges = [(i, j) for i, j in itertools.permutations(range(K), 2)]\n",
        "\n",
        "# Step 2: For each token k = 1, 2, ..., K, randomly select L arrows involving k\n",
        "def select_arrows_for_each_token(K, L):\n",
        "    all_tpgs = []\n",
        "    for k in range(K):\n",
        "        # Select edges where token k is involved (either as the source or destination)\n",
        "        valid_edges = [edge for edge in all_possible_edges if edge[0] == k or edge[1] == k]\n",
        "\n",
        "        # Ensure that token k is included in the TPG\n",
        "        selected_edges = random.sample(valid_edges, 1)  # Pick one edge that includes token k\n",
        "\n",
        "        # Now pick the rest of the L-1 arrows from all possible edges (can include or exclude token k)\n",
        "        other_edges = [edge for edge in all_possible_edges if edge not in selected_edges]\n",
        "        selected_edges += random.sample(other_edges, L - 1)  # Pick (L-1) arrows randomly\n",
        "\n",
        "        all_tpgs.append(selected_edges)\n",
        "    return all_tpgs"
      ],
      "metadata": {
        "id": "qmpsDDaS3cYx"
      },
      "execution_count": 7,
      "outputs": []
    },
    {
      "cell_type": "code",
      "source": [
        "# For topic 1\n",
        "customize_seed(42)\n",
        "# Generate K groups with L arrows each\n",
        "tpgs_1 = select_arrows_for_each_token(K, L)\n",
        "\n",
        "# Display the results\n",
        "print(\"Selected edges for each TPG:\")\n",
        "for idx, tpg in enumerate(tpgs_1, 0):\n",
        "    print(f\"TPG_1 for token {idx}: {tpg}\")"
      ],
      "metadata": {
        "colab": {
          "base_uri": "https://localhost:8080/"
        },
        "id": "ohAbvuLeJmfc",
        "outputId": "9ab5f0cc-604a-44d6-c3c3-1a3f4b562f55"
      },
      "execution_count": 8,
      "outputs": [
        {
          "output_type": "stream",
          "name": "stdout",
          "text": [
            "Selected edges for each TPG:\n",
            "TPG_1 for token 0: [(4, 0), (1, 0), (0, 2), (6, 7)]\n",
            "TPG_1 for token 1: [(1, 4), (2, 3), (2, 1), (1, 2)]\n",
            "TPG_1 for token 2: [(5, 2), (0, 7), (6, 2), (6, 7)]\n",
            "TPG_1 for token 3: [(3, 6), (0, 6), (5, 3), (4, 0)]\n",
            "TPG_1 for token 4: [(0, 4), (0, 2), (0, 7), (2, 0)]\n",
            "TPG_1 for token 5: [(3, 5), (4, 6), (5, 4), (0, 2)]\n",
            "TPG_1 for token 6: [(6, 2), (1, 6), (6, 4), (5, 7)]\n",
            "TPG_1 for token 7: [(7, 4), (4, 7), (3, 6), (2, 0)]\n"
          ]
        }
      ]
    },
    {
      "cell_type": "code",
      "source": [
        "# for topic 2\n",
        "customize_seed(99)\n",
        "# Generate K groups with L arrows each\n",
        "tpgs_2 = select_arrows_for_each_token(K, L)\n",
        "\n",
        "# Display the results\n",
        "print(\"Selected edges for each TPG:\")\n",
        "for idx, tpg in enumerate(tpgs_2, 0):\n",
        "    print(f\"TPG_2 for token {idx}: {tpg}\")"
      ],
      "metadata": {
        "colab": {
          "base_uri": "https://localhost:8080/"
        },
        "id": "iTZMapdSYt18",
        "outputId": "982eb6af-9b8d-4365-8570-a07b7fac7da5"
      },
      "execution_count": 9,
      "outputs": [
        {
          "output_type": "stream",
          "name": "stdout",
          "text": [
            "Selected edges for each TPG:\n",
            "TPG_2 for token 0: [(0, 7), (3, 5), (1, 7), (5, 4)]\n",
            "TPG_2 for token 1: [(1, 2), (2, 1), (2, 3), (1, 3)]\n",
            "TPG_2 for token 2: [(6, 2), (0, 6), (2, 3), (6, 5)]\n",
            "TPG_2 for token 3: [(3, 4), (4, 7), (6, 2), (6, 3)]\n",
            "TPG_2 for token 4: [(4, 5), (0, 6), (5, 6), (4, 3)]\n",
            "TPG_2 for token 5: [(3, 5), (3, 7), (6, 5), (5, 6)]\n",
            "TPG_2 for token 6: [(6, 3), (1, 7), (7, 2), (3, 2)]\n",
            "TPG_2 for token 7: [(7, 6), (3, 4), (6, 1), (1, 7)]\n"
          ]
        }
      ]
    },
    {
      "cell_type": "markdown",
      "source": [
        "### Step 3. Check and add missing relationship between any two tokens"
      ],
      "metadata": {
        "id": "4t8hRNsg4Rxu"
      }
    },
    {
      "cell_type": "code",
      "source": [
        "# Find if there is a direct or indirect path between any two tokens\n",
        "def has_path(graph, start, end, visited):\n",
        "    if start == end:\n",
        "        return True\n",
        "    visited.add(start)\n",
        "    for neighbor in graph[start]:\n",
        "        if neighbor not in visited and has_path(graph, neighbor, end, visited):\n",
        "            return True\n",
        "    return False\n",
        "\n",
        "# Find missing relationships between any two tokens and add the arrow\n",
        "def find_and_add_missing_relationships(tpg):\n",
        "\n",
        "\n",
        "    # Build a directed graph from the selected edges\n",
        "    graph = defaultdict(list)\n",
        "    for edge in tpg:\n",
        "        graph[edge[0]].append(edge[1])\n",
        "\n",
        "    # Get the nodes in the current TPG\n",
        "    nodes = set([edge[0] for edge in tpg] + [edge[1] for edge in tpg])\n",
        "\n",
        "    # Check pairs of nodes that are missing direct or indirect connections\n",
        "    for i, j in itertools.combinations(nodes, 2):\n",
        "        # Check if there's a path from i to j or j to i\n",
        "        if not has_path(graph, i, j, set()) and not has_path(graph, j, i, set()):\n",
        "            # Randomly choose the direction to add the missing arrow\n",
        "            if random.choice([True, False]):\n",
        "                tpg.append((i, j))  # Add arrow i -> j\n",
        "                graph[i].append(j)\n",
        "            else:\n",
        "                tpg.append((j, i))  # Add arrow j -> i\n",
        "                graph[j].append(i)\n",
        "\n",
        "    return tpg"
      ],
      "metadata": {
        "id": "NjvNEgrJX2G-"
      },
      "execution_count": 10,
      "outputs": []
    },
    {
      "cell_type": "markdown",
      "source": [
        "### Step 4. Generate TPG_1 and TPG_2 for topic 1 and topic 2 respectively"
      ],
      "metadata": {
        "id": "dJDAiMpYLpdZ"
      }
    },
    {
      "cell_type": "code",
      "source": [
        "def generate_tpg(tpgs):\n",
        "    updated_tpgs=[] # updated tpg_1 for each token\n",
        "    for tpg in tpgs:\n",
        "        tpg_copy = copy.deepcopy(tpg)\n",
        "        updated_tpg = find_and_add_missing_relationships(tpg_copy)\n",
        "        updated_tpgs.append(updated_tpg)\n",
        "\n",
        "    return updated_tpgs"
      ],
      "metadata": {
        "id": "5OYSVIgwuA-P"
      },
      "execution_count": 11,
      "outputs": []
    },
    {
      "cell_type": "code",
      "source": [
        "# For topic 1\n",
        "customize_seed(42)\n",
        "\n",
        "updated_tpgs_1=[] # updated tpg_1 for each token\n",
        "for tpg in tpgs_1:\n",
        "    tpg_copy = copy.deepcopy(tpg)\n",
        "    updated_tpg = find_and_add_missing_relationships(tpg_copy)\n",
        "    updated_tpgs_1.append(updated_tpg)\n",
        "\n",
        "for idx, (tpg, updated_tpg) in enumerate(zip(tpgs_1, updated_tpgs_1), 0):\n",
        "    print(f\"TPG_1 for token {idx}: {tpg}\")\n",
        "    print(f\"Updated TPG_1 for token {idx}: {updated_tpg}\\n\")"
      ],
      "metadata": {
        "colab": {
          "base_uri": "https://localhost:8080/"
        },
        "id": "DofqcAmyY5Aj",
        "outputId": "d11901d3-ede3-4dfe-92ca-436dc2e16665"
      },
      "execution_count": 12,
      "outputs": [
        {
          "output_type": "stream",
          "name": "stdout",
          "text": [
            "TPG_1 for token 0: [(4, 0), (1, 0), (0, 2), (6, 7)]\n",
            "Updated TPG_1 for token 0: [(4, 0), (1, 0), (0, 2), (6, 7), (0, 6), (1, 4), (6, 2), (2, 7)]\n",
            "\n",
            "TPG_1 for token 1: [(1, 4), (2, 3), (2, 1), (1, 2)]\n",
            "Updated TPG_1 for token 1: [(1, 4), (2, 3), (2, 1), (1, 2), (3, 4)]\n",
            "\n",
            "TPG_1 for token 2: [(5, 2), (0, 7), (6, 2), (6, 7)]\n",
            "Updated TPG_1 for token 2: [(5, 2), (0, 7), (6, 2), (6, 7), (0, 2), (0, 5), (0, 6), (7, 2), (5, 6)]\n",
            "\n",
            "TPG_1 for token 3: [(3, 6), (0, 6), (5, 3), (4, 0)]\n",
            "Updated TPG_1 for token 3: [(3, 6), (0, 6), (5, 3), (4, 0), (0, 3), (0, 5)]\n",
            "\n",
            "TPG_1 for token 4: [(0, 4), (0, 2), (0, 7), (2, 0)]\n",
            "Updated TPG_1 for token 4: [(0, 4), (0, 2), (0, 7), (2, 0), (4, 7)]\n",
            "\n",
            "TPG_1 for token 5: [(3, 5), (4, 6), (5, 4), (0, 2)]\n",
            "Updated TPG_1 for token 5: [(3, 5), (4, 6), (5, 4), (0, 2), (0, 3), (2, 3)]\n",
            "\n",
            "TPG_1 for token 6: [(6, 2), (1, 6), (6, 4), (5, 7)]\n",
            "Updated TPG_1 for token 6: [(6, 2), (1, 6), (6, 4), (5, 7), (1, 5), (4, 2), (2, 5)]\n",
            "\n",
            "TPG_1 for token 7: [(7, 4), (4, 7), (3, 6), (2, 0)]\n",
            "Updated TPG_1 for token 7: [(7, 4), (4, 7), (3, 6), (2, 0), (3, 0), (4, 0), (0, 6), (2, 3), (4, 2)]\n",
            "\n"
          ]
        }
      ]
    },
    {
      "cell_type": "code",
      "source": [
        "# For topic 2\n",
        "customize_seed(99)\n",
        "\n",
        "updated_tpgs_2=[] # updated tpg_2 for each token\n",
        "for tpg in tpgs_2:\n",
        "    tpg_copy = copy.deepcopy(tpg)\n",
        "    updated_tpg = find_and_add_missing_relationships(tpg_copy)\n",
        "    updated_tpgs_2.append(updated_tpg)\n",
        "\n",
        "for idx, (tpg, updated_tpg) in enumerate(zip(tpgs_2, updated_tpgs_2), 0):\n",
        "    print(f\"TPG_2 for token {idx}: {tpg}\")\n",
        "    print(f\"Updated TPG_2 for token {idx}: {updated_tpg}\\n\")"
      ],
      "metadata": {
        "colab": {
          "base_uri": "https://localhost:8080/"
        },
        "id": "pIiTud6WZK1U",
        "outputId": "ab6a754d-0df0-4322-87ce-fd246ce8ef16"
      },
      "execution_count": 13,
      "outputs": [
        {
          "output_type": "stream",
          "name": "stdout",
          "text": [
            "TPG_2 for token 0: [(0, 7), (3, 5), (1, 7), (5, 4)]\n",
            "Updated TPG_2 for token 0: [(0, 7), (3, 5), (1, 7), (5, 4), (1, 0), (3, 0), (0, 4), (0, 5), (1, 3), (4, 7)]\n",
            "\n",
            "TPG_2 for token 1: [(1, 2), (2, 1), (2, 3), (1, 3)]\n",
            "Updated TPG_2 for token 1: [(1, 2), (2, 1), (2, 3), (1, 3)]\n",
            "\n",
            "TPG_2 for token 2: [(6, 2), (0, 6), (2, 3), (6, 5)]\n",
            "Updated TPG_2 for token 2: [(6, 2), (0, 6), (2, 3), (6, 5), (2, 5), (3, 5)]\n",
            "\n",
            "TPG_2 for token 3: [(3, 4), (4, 7), (6, 2), (6, 3)]\n",
            "Updated TPG_2 for token 3: [(3, 4), (4, 7), (6, 2), (6, 3), (3, 2), (4, 2), (2, 7)]\n",
            "\n",
            "TPG_2 for token 4: [(4, 5), (0, 6), (5, 6), (4, 3)]\n",
            "Updated TPG_2 for token 4: [(4, 5), (0, 6), (5, 6), (4, 3), (3, 0), (0, 5)]\n",
            "\n",
            "TPG_2 for token 5: [(3, 5), (3, 7), (6, 5), (5, 6)]\n",
            "Updated TPG_2 for token 5: [(3, 5), (3, 7), (6, 5), (5, 6), (7, 5)]\n",
            "\n",
            "TPG_2 for token 6: [(6, 3), (1, 7), (7, 2), (3, 2)]\n",
            "Updated TPG_2 for token 6: [(6, 3), (1, 7), (7, 2), (3, 2), (1, 3), (6, 1), (7, 3)]\n",
            "\n",
            "TPG_2 for token 7: [(7, 6), (3, 4), (6, 1), (1, 7)]\n",
            "Updated TPG_2 for token 7: [(7, 6), (3, 4), (6, 1), (1, 7), (1, 3)]\n",
            "\n"
          ]
        }
      ]
    },
    {
      "cell_type": "markdown",
      "source": [
        "### Step 5. Generate TPG combining two topics"
      ],
      "metadata": {
        "id": "Zbvb5PUYMIC-"
      }
    },
    {
      "cell_type": "code",
      "source": [
        "# Combine two TPGs for each token\n",
        "def combine_tpgs(tpgs_group_1, tpgs_group_2):\n",
        "    combined_tpgs = []\n",
        "    for tpg1, tpg2 in zip(tpgs_group_1, tpgs_group_2):\n",
        "        combined_tpg = tpg1 + [edge for edge in tpg2 if edge not in tpg1]  # Combine unique edges\n",
        "        combined_tpgs.append(combined_tpg)\n",
        "    return combined_tpgs\n",
        "\n",
        "# Check missing relationships for the combined TPG\n",
        "def check_missing_relationships_in_combined_tpgs(combined_tpgs):\n",
        "    for idx, tpg in enumerate(combined_tpgs, 1):\n",
        "        print(f\"Combined TPG for token {idx}: {tpg}\")\n",
        "        updated_tpg = find_and_add_missing_relationships(tpg)\n",
        "        print(f\"Combined TPG for token {idx} after adding missing arrows: {updated_tpg}\\n\")\n"
      ],
      "metadata": {
        "id": "iDMjN3g9MRGx"
      },
      "execution_count": 14,
      "outputs": []
    },
    {
      "cell_type": "code",
      "source": [
        "customize_seed(22)\n",
        "\n",
        "cb_tpgs = combine_tpgs(updated_tpgs_1, updated_tpgs_2) # combine TPGs for two topics\n",
        "updated_cb_tpgs=[] # updated combine tpg for each token\n",
        "for tpg in cb_tpgs:\n",
        "    tpg_copy = copy.deepcopy(tpg)\n",
        "    updated_tpg = find_and_add_missing_relationships(tpg_copy)\n",
        "    updated_cb_tpgs.append(updated_tpg)\n",
        "\n",
        "for idx, (tpg, updated_tpg) in enumerate(zip(cb_tpgs, updated_cb_tpgs), 0):\n",
        "    print(f\"Combined TPG for token {idx}: {tpg}\")\n",
        "    print(f\"Updated Combined TPG for token {idx}: {updated_tpg}\\n\")"
      ],
      "metadata": {
        "colab": {
          "base_uri": "https://localhost:8080/"
        },
        "id": "aePSb7QInmSW",
        "outputId": "b8fc331d-82ac-49ff-b71a-9c4aad186022"
      },
      "execution_count": 15,
      "outputs": [
        {
          "output_type": "stream",
          "name": "stdout",
          "text": [
            "Combined TPG for token 0: [(4, 0), (1, 0), (0, 2), (6, 7), (0, 6), (1, 4), (6, 2), (2, 7), (0, 7), (3, 5), (1, 7), (5, 4), (3, 0), (0, 4), (0, 5), (1, 3), (4, 7)]\n",
            "Updated Combined TPG for token 0: [(4, 0), (1, 0), (0, 2), (6, 7), (0, 6), (1, 4), (6, 2), (2, 7), (0, 7), (3, 5), (1, 7), (5, 4), (3, 0), (0, 4), (0, 5), (1, 3), (4, 7)]\n",
            "\n",
            "Combined TPG for token 1: [(1, 4), (2, 3), (2, 1), (1, 2), (3, 4), (1, 3)]\n",
            "Updated Combined TPG for token 1: [(1, 4), (2, 3), (2, 1), (1, 2), (3, 4), (1, 3)]\n",
            "\n",
            "Combined TPG for token 2: [(5, 2), (0, 7), (6, 2), (6, 7), (0, 2), (0, 5), (0, 6), (7, 2), (5, 6), (2, 3), (6, 5), (2, 5), (3, 5)]\n",
            "Updated Combined TPG for token 2: [(5, 2), (0, 7), (6, 2), (6, 7), (0, 2), (0, 5), (0, 6), (7, 2), (5, 6), (2, 3), (6, 5), (2, 5), (3, 5)]\n",
            "\n",
            "Combined TPG for token 3: [(3, 6), (0, 6), (5, 3), (4, 0), (0, 3), (0, 5), (3, 4), (4, 7), (6, 2), (6, 3), (3, 2), (4, 2), (2, 7)]\n",
            "Updated Combined TPG for token 3: [(3, 6), (0, 6), (5, 3), (4, 0), (0, 3), (0, 5), (3, 4), (4, 7), (6, 2), (6, 3), (3, 2), (4, 2), (2, 7)]\n",
            "\n",
            "Combined TPG for token 4: [(0, 4), (0, 2), (0, 7), (2, 0), (4, 7), (4, 5), (0, 6), (5, 6), (4, 3), (3, 0), (0, 5)]\n",
            "Updated Combined TPG for token 4: [(0, 4), (0, 2), (0, 7), (2, 0), (4, 7), (4, 5), (0, 6), (5, 6), (4, 3), (3, 0), (0, 5), (5, 7), (6, 7)]\n",
            "\n",
            "Combined TPG for token 5: [(3, 5), (4, 6), (5, 4), (0, 2), (0, 3), (2, 3), (3, 7), (6, 5), (5, 6), (7, 5)]\n",
            "Updated Combined TPG for token 5: [(3, 5), (4, 6), (5, 4), (0, 2), (0, 3), (2, 3), (3, 7), (6, 5), (5, 6), (7, 5)]\n",
            "\n",
            "Combined TPG for token 6: [(6, 2), (1, 6), (6, 4), (5, 7), (1, 5), (4, 2), (2, 5), (6, 3), (1, 7), (7, 2), (3, 2), (1, 3), (6, 1), (7, 3)]\n",
            "Updated Combined TPG for token 6: [(6, 2), (1, 6), (6, 4), (5, 7), (1, 5), (4, 2), (2, 5), (6, 3), (1, 7), (7, 2), (3, 2), (1, 3), (6, 1), (7, 3)]\n",
            "\n",
            "Combined TPG for token 7: [(7, 4), (4, 7), (3, 6), (2, 0), (3, 0), (4, 0), (0, 6), (2, 3), (4, 2), (7, 6), (3, 4), (6, 1), (1, 7), (1, 3)]\n",
            "Updated Combined TPG for token 7: [(7, 4), (4, 7), (3, 6), (2, 0), (3, 0), (4, 0), (0, 6), (2, 3), (4, 2), (7, 6), (3, 4), (6, 1), (1, 7), (1, 3)]\n",
            "\n"
          ]
        }
      ]
    },
    {
      "cell_type": "markdown",
      "source": [
        "## Part 2: Generate data for each topic"
      ],
      "metadata": {
        "id": "YrO9O_AbBaLw"
      }
    },
    {
      "cell_type": "markdown",
      "source": [
        "### Step 6. Decide the length of sequence T"
      ],
      "metadata": {
        "id": "O1nv7ZHfy6bR"
      }
    },
    {
      "cell_type": "markdown",
      "source": [
        "### Step 7. Generate sequence for each topic"
      ],
      "metadata": {
        "id": "aJflKLzgzY-w"
      }
    },
    {
      "cell_type": "code",
      "source": [
        "def generate_sequence_from_tpgs(updated_tpgs_1, T):\n",
        "    sequence_length = T  # Sequence length is T = 4\n",
        "\n",
        "    # Step 1: Randomly choose the last token k (e_T)\n",
        "    last_token_k = random.randint(0, K-1)  # Choose a random token as the last one (0 <= k <= K-1)\n",
        "\n",
        "    tpg_for_k = updated_tpgs_1[last_token_k]  # Select the TPG for the last token k\n",
        "\n",
        "\n",
        "    # Step 2: Randomly choose the next token e_{T+1} in the selected TPG\n",
        "    ## 2.1 find e_j that have arrows coming from the last token k\n",
        "    outgoing_edges = [edge for edge in tpg_for_k if edge[0] == last_token_k]\n",
        "    destination_nodes = [edge[1] for edge in outgoing_edges]\n",
        "    destination_nodes.append(last_token_k)\n",
        "\n",
        "    ## 2.2 count the arrows pointing to each destination node (include e_j itself)\n",
        "    destination_counts = {node: 1 for node in destination_nodes} # start from 1: including e_j itself\n",
        "    for edge in tpg_for_k:\n",
        "        if edge[1] in destination_counts:\n",
        "            destination_counts[edge[1]] += 1\n",
        "\n",
        "    ## 2.3 randomly choose the next token e_{T+1} based on weighted prob\n",
        "    total_count = sum(destination_counts.values())\n",
        "    prob = [count / total_count for count in destination_counts.values()]\n",
        "\n",
        "    next_token = np.random.choice(list(destination_counts.keys()), p=prob)\n",
        "\n",
        "\n",
        "    # Step 3: Randomly choose the location of the next token in the input sequence\n",
        "    available_positions = list(range(sequence_length - 1))  # Positions: 0, 1, 2, 3\n",
        "    next_token_position_input = random.choice(available_positions)  # Choose a position for e_{T+1}\n",
        "\n",
        "    input_sequence = [None] * (sequence_length - 1) # Initialize the input sequence with None\n",
        "    input_sequence.append(last_token_k)\n",
        "    input_sequence[next_token_position_input] = next_token  # Place e_{T+1} in the sequence\n",
        "\n",
        "\n",
        "    # Step 4: Randomly choose the rest of the tokens that have arrows to the next token in the TPG\n",
        "    remaining_positions = [pos for pos in available_positions if pos != next_token_position_input]\n",
        "\n",
        "    # Find tokens that have arrows pointing to the chosen next token\n",
        "    possible_previous_tokens = [edge[0] for edge in tpg_for_k if edge[1] == next_token]\n",
        "    possible_previous_tokens.append(next_token) # next_token can also be chosen as the rest of token\n",
        "\n",
        "    if len(possible_previous_tokens) == 0:\n",
        "        raise ValueError(f\"No available nodes in the TPG for token {last_token_k}.\")\n",
        "\n",
        "    # Randomly choose tokens for the remaining positions\n",
        "    for pos in remaining_positions:\n",
        "        token = random.choice(possible_previous_tokens)\n",
        "        input_sequence[pos] = token\n",
        "\n",
        "    # check process if needed\n",
        "    # print(\"\\nlast_token:\", last_token_k)\n",
        "    # print(\"the selected tpg:\", tpg_for_k)\n",
        "    # print(\"destination_nodes:\", destination_nodes)\n",
        "    # print(\"destination_counts:\", destination_counts)\n",
        "    # print(\"next token:\", next_token)\n",
        "    # print(\"next_token randomly putted in:\", next_token_position_input)\n",
        "    # print(\"prob:\", prob)\n",
        "    # print(\"possible rest tokens:\", possible_previous_tokens)\n",
        "\n",
        "    return input_sequence, next_token"
      ],
      "metadata": {
        "id": "OFfBECjJzX5z"
      },
      "execution_count": 16,
      "outputs": []
    },
    {
      "cell_type": "code",
      "source": [
        "# Test\n",
        "customize_seed(42)\n",
        "\n",
        "generate_sequence_from_tpgs(updated_tpgs_1, T)"
      ],
      "metadata": {
        "colab": {
          "base_uri": "https://localhost:8080/"
        },
        "id": "tB-tsLlk8Fyv",
        "outputId": "ec080788-3a9b-4817-93d6-a98bbab6cbf6"
      },
      "execution_count": 17,
      "outputs": [
        {
          "output_type": "execute_result",
          "data": {
            "text/plain": [
              "([4, 4, 3, 1], 4)"
            ]
          },
          "metadata": {},
          "execution_count": 17
        }
      ]
    },
    {
      "cell_type": "code",
      "source": [
        "updated_tpgs_1"
      ],
      "metadata": {
        "colab": {
          "base_uri": "https://localhost:8080/"
        },
        "id": "tDIRfpELjqjl",
        "outputId": "f58167ca-1bd7-4c69-9eaa-9b8417f00860"
      },
      "execution_count": 18,
      "outputs": [
        {
          "output_type": "execute_result",
          "data": {
            "text/plain": [
              "[[(4, 0), (1, 0), (0, 2), (6, 7), (0, 6), (1, 4), (6, 2), (2, 7)],\n",
              " [(1, 4), (2, 3), (2, 1), (1, 2), (3, 4)],\n",
              " [(5, 2), (0, 7), (6, 2), (6, 7), (0, 2), (0, 5), (0, 6), (7, 2), (5, 6)],\n",
              " [(3, 6), (0, 6), (5, 3), (4, 0), (0, 3), (0, 5)],\n",
              " [(0, 4), (0, 2), (0, 7), (2, 0), (4, 7)],\n",
              " [(3, 5), (4, 6), (5, 4), (0, 2), (0, 3), (2, 3)],\n",
              " [(6, 2), (1, 6), (6, 4), (5, 7), (1, 5), (4, 2), (2, 5)],\n",
              " [(7, 4), (4, 7), (3, 6), (2, 0), (3, 0), (4, 0), (0, 6), (2, 3), (4, 2)]]"
            ]
          },
          "metadata": {},
          "execution_count": 18
        }
      ]
    },
    {
      "cell_type": "markdown",
      "source": [
        "### Step 8. Repeat $n$ times to generate data for topic 1"
      ],
      "metadata": {
        "id": "aqKHeGRIF4xj"
      }
    },
    {
      "cell_type": "code",
      "source": [
        "# Generate data set with N sequences based on the updated TPG\n",
        "def generate_data(updated_tpgs, n):\n",
        "\n",
        "    results = []\n",
        "    for i in range(n):\n",
        "        sequence, next_token = generate_sequence_from_tpgs(updated_tpgs, T)\n",
        "        results.append((sequence, next_token))\n",
        "\n",
        "    return results"
      ],
      "metadata": {
        "id": "qaUB4iPk8tBT"
      },
      "execution_count": 19,
      "outputs": []
    },
    {
      "cell_type": "code",
      "source": [
        "customize_seed(42)\n",
        "\n",
        "data_topic_1 = generate_data(updated_tpgs_1,n)\n",
        "data_topic_1"
      ],
      "metadata": {
        "colab": {
          "base_uri": "https://localhost:8080/"
        },
        "collapsed": true,
        "id": "y5nH_U6V--n9",
        "outputId": "e9b28d98-7755-4729-b423-72139c127729"
      },
      "execution_count": 20,
      "outputs": [
        {
          "output_type": "execute_result",
          "data": {
            "text/plain": [
              "[([4, 4, 3, 1], 4),\n",
              " ([3, 5, 3, 3], 3),\n",
              " ([2, 1, 1, 1], 1),\n",
              " ([6, 0, 0, 0], 6),\n",
              " ([6, 3, 6, 3], 6),\n",
              " ([6, 6, 6, 3], 6),\n",
              " ([2, 4, 2, 6], 2),\n",
              " ([4, 0, 4, 4], 4),\n",
              " ([3, 5, 3, 5], 5),\n",
              " ([5, 3, 5, 5], 5),\n",
              " ([3, 4, 4, 1], 4),\n",
              " ([4, 4, 0, 4], 4),\n",
              " ([6, 6, 6, 6], 6),\n",
              " ([3, 3, 6, 3], 6),\n",
              " ([3, 6, 3, 3], 6),\n",
              " ([3, 4, 3, 1], 4),\n",
              " ([4, 4, 4, 5], 4),\n",
              " ([0, 3, 3, 3], 3),\n",
              " ([1, 1, 2, 1], 2),\n",
              " ([7, 2, 0, 2], 2),\n",
              " ([0, 5, 3, 3], 3),\n",
              " ([6, 0, 0, 3], 6),\n",
              " ([7, 0, 7, 4], 7),\n",
              " ([4, 4, 4, 5], 4),\n",
              " ([4, 4, 7, 7], 4),\n",
              " ([3, 3, 3, 3], 3),\n",
              " ([7, 4, 7, 4], 7),\n",
              " ([6, 4, 6, 6], 4),\n",
              " ([7, 4, 4, 7], 7),\n",
              " ([6, 7, 2, 2], 2),\n",
              " ([2, 2, 2, 1], 2),\n",
              " ([0, 7, 7, 4], 7),\n",
              " ([4, 3, 4, 1], 4),\n",
              " ([5, 5, 5, 5], 5),\n",
              " ([5, 2, 0, 2], 2),\n",
              " ([5, 0, 2, 2], 2),\n",
              " ([6, 0, 3, 3], 6),\n",
              " ([6, 6, 2, 0], 2),\n",
              " ([0, 1, 1, 0], 0),\n",
              " ([6, 3, 6, 3], 6),\n",
              " ([4, 4, 3, 1], 4),\n",
              " ([1, 1, 2, 1], 2),\n",
              " ([7, 4, 4, 7], 4),\n",
              " ([6, 1, 6, 6], 6),\n",
              " ([2, 4, 2, 6], 2),\n",
              " ([7, 4, 7, 7], 7),\n",
              " ([6, 3, 0, 3], 6),\n",
              " ([0, 0, 6, 0], 6),\n",
              " ([6, 0, 0, 0], 6),\n",
              " ([4, 3, 1, 1], 4),\n",
              " ([3, 3, 0, 3], 3),\n",
              " ([5, 3, 3, 3], 3),\n",
              " ([7, 7, 7, 7], 7),\n",
              " ([3, 5, 3, 3], 3),\n",
              " ([4, 4, 4, 6], 4),\n",
              " ([4, 4, 7, 7], 7),\n",
              " ([2, 2, 6, 0], 2),\n",
              " ([4, 1, 1, 1], 4),\n",
              " ([4, 4, 7, 7], 4),\n",
              " ([0, 7, 0, 4], 7),\n",
              " ([7, 7, 4, 7], 4),\n",
              " ([2, 0, 0, 0], 2),\n",
              " ([6, 6, 1, 6], 6),\n",
              " ([2, 6, 4, 6], 2),\n",
              " ([6, 2, 6, 0], 2),\n",
              " ([7, 7, 7, 4], 7),\n",
              " ([4, 7, 4, 7], 4),\n",
              " ([3, 3, 3, 3], 3),\n",
              " ([6, 0, 2, 0], 2),\n",
              " ([1, 0, 0, 0], 0),\n",
              " ([2, 2, 5, 2], 2),\n",
              " ([2, 2, 5, 2], 2),\n",
              " ([3, 6, 6, 3], 6),\n",
              " ([3, 5, 3, 3], 3),\n",
              " ([2, 2, 2, 1], 2),\n",
              " ([3, 0, 3, 3], 3),\n",
              " ([0, 3, 5, 3], 3),\n",
              " ([4, 7, 0, 4], 7),\n",
              " ([2, 2, 2, 0], 2),\n",
              " ([4, 4, 1, 1], 4),\n",
              " ([4, 4, 0, 4], 4),\n",
              " ([0, 3, 5, 3], 3),\n",
              " ([4, 7, 4, 7], 4),\n",
              " ([0, 0, 7, 4], 7),\n",
              " ([7, 0, 7, 4], 7),\n",
              " ([0, 2, 2, 2], 2),\n",
              " ([0, 5, 3, 3], 3),\n",
              " ([4, 4, 4, 4], 4),\n",
              " ([0, 0, 1, 0], 0),\n",
              " ([7, 0, 4, 4], 7),\n",
              " ([0, 6, 2, 2], 2),\n",
              " ([7, 4, 7, 7], 7),\n",
              " ([1, 2, 2, 1], 1),\n",
              " ([3, 5, 5, 5], 5),\n",
              " ([2, 0, 0, 2], 2),\n",
              " ([0, 6, 0, 0], 6),\n",
              " ([2, 2, 1, 1], 2),\n",
              " ([6, 3, 0, 3], 6),\n",
              " ([2, 2, 6, 0], 2),\n",
              " ([2, 6, 2, 6], 2)]"
            ]
          },
          "metadata": {},
          "execution_count": 20
        }
      ]
    },
    {
      "cell_type": "markdown",
      "source": [
        "### Step 9. Generate data for topic 2"
      ],
      "metadata": {
        "id": "b3dnf3SZFf60"
      }
    },
    {
      "cell_type": "code",
      "source": [
        "data_topic_2 = generate_data(updated_tpgs_2,n)"
      ],
      "metadata": {
        "id": "5F8UU3WPDwhc"
      },
      "execution_count": 21,
      "outputs": []
    },
    {
      "cell_type": "markdown",
      "source": [
        "### Step 10. Get the dataset for combining two topics"
      ],
      "metadata": {
        "id": "atkV5hsTT70n"
      }
    },
    {
      "cell_type": "code",
      "source": [
        "data_combine = generate_data(updated_cb_tpgs,n)"
      ],
      "metadata": {
        "id": "d9DhYZYMUB6X"
      },
      "execution_count": 22,
      "outputs": []
    },
    {
      "cell_type": "markdown",
      "source": [
        "## Part 3: Calculate $W^{svm}$ and $W(\\tau)$"
      ],
      "metadata": {
        "id": "8z_qXK8dTc3m"
      }
    },
    {
      "cell_type": "markdown",
      "source": [
        "### Step 11. Calculate $W_1^{svm}, W_2^{svm}, W^{svm}$ by using $\\{X^1_i, y^1_i\\}_{i=1}^N$, $\\{X^2_i, y^2_i\\}_{i=1}^N$, and $\\{X_i, y_i\\}_{i=1}^N$"
      ],
      "metadata": {
        "id": "uWJCNgSesfeZ"
      }
    },
    {
      "cell_type": "markdown",
      "source": [
        "#### 11.1 Get vocabulary and dictonary"
      ],
      "metadata": {
        "id": "C3f8ohSvuuSn"
      }
    },
    {
      "cell_type": "code",
      "source": [
        "customize_seed(2)\n",
        "\n",
        "X, Vocab, C, dict_token, idx_token = next_data(\n",
        "            n = n, T=T, K=K, d=d,\n",
        "            rep_seq = rep_seq, token_choice= token_choice,\n",
        "            same_last_token = same_last_token,\n",
        "            check_label = check_label, check_asyc = check_asyc)\n",
        "\n",
        "Vocab # K*d"
      ],
      "metadata": {
        "colab": {
          "base_uri": "https://localhost:8080/"
        },
        "id": "8gsO8kNHjwcY",
        "outputId": "f47b6e2d-a2ce-4b27-c3fa-7d1ddd6d22f9"
      },
      "execution_count": 23,
      "outputs": [
        {
          "output_type": "execute_result",
          "data": {
            "text/plain": [
              "tensor([[-0.3501,  0.3083, -0.4387, -0.3733, -0.4100,  0.3928, -0.3557, -0.0400],\n",
              "        [-0.5119,  0.1947, -0.3222, -0.1326,  0.5682, -0.4245, -0.1269, -0.2440],\n",
              "        [-0.6485, -0.1973, -0.3649,  0.2266,  0.0129, -0.0214,  0.4583,  0.3813],\n",
              "        [ 0.1309, -0.1407,  0.0364,  0.7797,  0.0396,  0.3158,  0.0890,  0.4946],\n",
              "        [-0.3043,  0.7280, -0.1108, -0.1082, -0.5149, -0.0097, -0.0936, -0.2819],\n",
              "        [ 0.4708,  0.1749, -0.4833, -0.3040, -0.3794, -0.3492, -0.3927, -0.0404],\n",
              "        [-0.3035,  0.0940, -0.4776,  0.5508,  0.0133,  0.4721, -0.1761,  0.3369],\n",
              "        [ 0.2726, -0.4334, -0.2103, -0.1589, -0.7135,  0.2807, -0.2793, -0.0504]],\n",
              "       dtype=torch.float64)"
            ]
          },
          "metadata": {},
          "execution_count": 23
        }
      ]
    },
    {
      "cell_type": "code",
      "source": [
        "dict_token"
      ],
      "metadata": {
        "colab": {
          "base_uri": "https://localhost:8080/"
        },
        "id": "mK0rrm3wldmN",
        "outputId": "9105b2e1-8eb2-48b0-894c-d047e4e541c3"
      },
      "execution_count": 24,
      "outputs": [
        {
          "output_type": "execute_result",
          "data": {
            "text/plain": [
              "{0: tensor([-0.3501,  0.3083, -0.4387, -0.3733, -0.4100,  0.3928, -0.3557, -0.0400],\n",
              "        dtype=torch.float64),\n",
              " 1: tensor([-0.5119,  0.1947, -0.3222, -0.1326,  0.5682, -0.4245, -0.1269, -0.2440],\n",
              "        dtype=torch.float64),\n",
              " 2: tensor([-0.6485, -0.1973, -0.3649,  0.2266,  0.0129, -0.0214,  0.4583,  0.3813],\n",
              "        dtype=torch.float64),\n",
              " 3: tensor([ 0.1309, -0.1407,  0.0364,  0.7797,  0.0396,  0.3158,  0.0890,  0.4946],\n",
              "        dtype=torch.float64),\n",
              " 4: tensor([-0.3043,  0.7280, -0.1108, -0.1082, -0.5149, -0.0097, -0.0936, -0.2819],\n",
              "        dtype=torch.float64),\n",
              " 5: tensor([ 0.4708,  0.1749, -0.4833, -0.3040, -0.3794, -0.3492, -0.3927, -0.0404],\n",
              "        dtype=torch.float64),\n",
              " 6: tensor([-0.3035,  0.0940, -0.4776,  0.5508,  0.0133,  0.4721, -0.1761,  0.3369],\n",
              "        dtype=torch.float64),\n",
              " 7: tensor([ 0.2726, -0.4334, -0.2103, -0.1589, -0.7135,  0.2807, -0.2793, -0.0504],\n",
              "        dtype=torch.float64)}"
            ]
          },
          "metadata": {},
          "execution_count": 24
        }
      ]
    },
    {
      "cell_type": "code",
      "source": [
        "data_topic_1"
      ],
      "metadata": {
        "colab": {
          "base_uri": "https://localhost:8080/"
        },
        "id": "-QjM-du9l0RM",
        "outputId": "836f5e43-9d25-4b7f-841f-264dd4436019"
      },
      "execution_count": 25,
      "outputs": [
        {
          "output_type": "execute_result",
          "data": {
            "text/plain": [
              "[([4, 4, 3, 1], 4),\n",
              " ([3, 5, 3, 3], 3),\n",
              " ([2, 1, 1, 1], 1),\n",
              " ([6, 0, 0, 0], 6),\n",
              " ([6, 3, 6, 3], 6),\n",
              " ([6, 6, 6, 3], 6),\n",
              " ([2, 4, 2, 6], 2),\n",
              " ([4, 0, 4, 4], 4),\n",
              " ([3, 5, 3, 5], 5),\n",
              " ([5, 3, 5, 5], 5),\n",
              " ([3, 4, 4, 1], 4),\n",
              " ([4, 4, 0, 4], 4),\n",
              " ([6, 6, 6, 6], 6),\n",
              " ([3, 3, 6, 3], 6),\n",
              " ([3, 6, 3, 3], 6),\n",
              " ([3, 4, 3, 1], 4),\n",
              " ([4, 4, 4, 5], 4),\n",
              " ([0, 3, 3, 3], 3),\n",
              " ([1, 1, 2, 1], 2),\n",
              " ([7, 2, 0, 2], 2),\n",
              " ([0, 5, 3, 3], 3),\n",
              " ([6, 0, 0, 3], 6),\n",
              " ([7, 0, 7, 4], 7),\n",
              " ([4, 4, 4, 5], 4),\n",
              " ([4, 4, 7, 7], 4),\n",
              " ([3, 3, 3, 3], 3),\n",
              " ([7, 4, 7, 4], 7),\n",
              " ([6, 4, 6, 6], 4),\n",
              " ([7, 4, 4, 7], 7),\n",
              " ([6, 7, 2, 2], 2),\n",
              " ([2, 2, 2, 1], 2),\n",
              " ([0, 7, 7, 4], 7),\n",
              " ([4, 3, 4, 1], 4),\n",
              " ([5, 5, 5, 5], 5),\n",
              " ([5, 2, 0, 2], 2),\n",
              " ([5, 0, 2, 2], 2),\n",
              " ([6, 0, 3, 3], 6),\n",
              " ([6, 6, 2, 0], 2),\n",
              " ([0, 1, 1, 0], 0),\n",
              " ([6, 3, 6, 3], 6),\n",
              " ([4, 4, 3, 1], 4),\n",
              " ([1, 1, 2, 1], 2),\n",
              " ([7, 4, 4, 7], 4),\n",
              " ([6, 1, 6, 6], 6),\n",
              " ([2, 4, 2, 6], 2),\n",
              " ([7, 4, 7, 7], 7),\n",
              " ([6, 3, 0, 3], 6),\n",
              " ([0, 0, 6, 0], 6),\n",
              " ([6, 0, 0, 0], 6),\n",
              " ([4, 3, 1, 1], 4),\n",
              " ([3, 3, 0, 3], 3),\n",
              " ([5, 3, 3, 3], 3),\n",
              " ([7, 7, 7, 7], 7),\n",
              " ([3, 5, 3, 3], 3),\n",
              " ([4, 4, 4, 6], 4),\n",
              " ([4, 4, 7, 7], 7),\n",
              " ([2, 2, 6, 0], 2),\n",
              " ([4, 1, 1, 1], 4),\n",
              " ([4, 4, 7, 7], 4),\n",
              " ([0, 7, 0, 4], 7),\n",
              " ([7, 7, 4, 7], 4),\n",
              " ([2, 0, 0, 0], 2),\n",
              " ([6, 6, 1, 6], 6),\n",
              " ([2, 6, 4, 6], 2),\n",
              " ([6, 2, 6, 0], 2),\n",
              " ([7, 7, 7, 4], 7),\n",
              " ([4, 7, 4, 7], 4),\n",
              " ([3, 3, 3, 3], 3),\n",
              " ([6, 0, 2, 0], 2),\n",
              " ([1, 0, 0, 0], 0),\n",
              " ([2, 2, 5, 2], 2),\n",
              " ([2, 2, 5, 2], 2),\n",
              " ([3, 6, 6, 3], 6),\n",
              " ([3, 5, 3, 3], 3),\n",
              " ([2, 2, 2, 1], 2),\n",
              " ([3, 0, 3, 3], 3),\n",
              " ([0, 3, 5, 3], 3),\n",
              " ([4, 7, 0, 4], 7),\n",
              " ([2, 2, 2, 0], 2),\n",
              " ([4, 4, 1, 1], 4),\n",
              " ([4, 4, 0, 4], 4),\n",
              " ([0, 3, 5, 3], 3),\n",
              " ([4, 7, 4, 7], 4),\n",
              " ([0, 0, 7, 4], 7),\n",
              " ([7, 0, 7, 4], 7),\n",
              " ([0, 2, 2, 2], 2),\n",
              " ([0, 5, 3, 3], 3),\n",
              " ([4, 4, 4, 4], 4),\n",
              " ([0, 0, 1, 0], 0),\n",
              " ([7, 0, 4, 4], 7),\n",
              " ([0, 6, 2, 2], 2),\n",
              " ([7, 4, 7, 7], 7),\n",
              " ([1, 2, 2, 1], 1),\n",
              " ([3, 5, 5, 5], 5),\n",
              " ([2, 0, 0, 2], 2),\n",
              " ([0, 6, 0, 0], 6),\n",
              " ([2, 2, 1, 1], 2),\n",
              " ([6, 3, 0, 3], 6),\n",
              " ([2, 2, 6, 0], 2),\n",
              " ([2, 6, 2, 6], 2)]"
            ]
          },
          "metadata": {},
          "execution_count": 25
        }
      ]
    },
    {
      "cell_type": "markdown",
      "source": [
        "#### 11.2 Get other input parameters\n",
        "- Part 1: X\n",
        "- Part 2: idx_token\n",
        "- Part 3: idx_z\n",
        "- Part 4: C_alpha\n",
        "- Part 5: scc_klst"
      ],
      "metadata": {
        "id": "25FG0AFHu1gS"
      }
    },
    {
      "cell_type": "code",
      "source": [
        "# Part 1: X, embedding word for each sequence\n",
        "def get_X(data):\n",
        "\n",
        "      input_X = []\n",
        "\n",
        "      for item in data:\n",
        "          key_sequence = item[0]  # Extract the token ID in each sequence\n",
        "          values = [dict_token[key].tolist() for key in key_sequence]  # Get the corresponding values from dict_token\n",
        "          input_X.append(values)\n",
        "\n",
        "      input_X = torch.tensor(input_X)\n",
        "      X = input_X.double() #dtype: torch.float64\n",
        "      return X\n",
        "\n",
        "# Part 2: idx_token, token ID for each input sequence\n",
        "def get_idx_token(data):\n",
        "\n",
        "    data_input_idx = [item[0] for item in data] # extract id of input sequence\n",
        "    idx_token = torch.tensor(data_input_idx) # change list to tensor\n",
        "\n",
        "    return idx_token\n",
        "\n",
        "# Part 3: idx_z, the last token ID for each sequence\n",
        "def get_idx_z(data):\n",
        "      idx_z = []\n",
        "\n",
        "      for i in range(n):\n",
        "          idx_zi = data[i][0][-1]\n",
        "          idx_z.append(idx_zi)\n",
        "\n",
        "      idx_z = torch.tensor(idx_z)\n",
        "      return idx_z\n",
        "\n",
        "# Part 4: C/C_alpha, the next token ID for each sequence\n",
        "def get_C_alpha(data):\n",
        "    C = []\n",
        "    for i in range(n):\n",
        "      C_i = data[i][-1]\n",
        "      C.append(C_i)\n",
        "\n",
        "    C_alpha = torch.tensor(C)\n",
        "\n",
        "    return C_alpha\n",
        "\n",
        "# Part 5: get scc_klst: scc for each TPG\n",
        "def get_scc_klst (idx_z, idx_token, C_alpha):\n",
        "    scc_klst = []\n",
        "\n",
        "    for k in range(K):\n",
        "        tarjan_solver = Tarjan(K)\n",
        "        mask = idx_token[:, -1] == k\n",
        "        cnt = torch.sum(mask).item()\n",
        "        if cnt == 0:\n",
        "            scc_klst.append([])\n",
        "            continue\n",
        "\n",
        "        tarjan_solver.initialize(idx_token[mask], C_alpha[mask])\n",
        "        tarjan_solver.run()\n",
        "        #tarjan_solver.output()\n",
        "        scc_lst = tarjan_solver.get_scc()\n",
        "        scc_klst.append(scc_lst)\n",
        "\n",
        "    return scc_klst\n",
        "\n",
        "# Part 6: z, the last token of each sequence\n",
        "def get_z(data, toy_case, batch_toy):\n",
        "\n",
        "    X = get_X(data)\n",
        "    if toy_case and batch_toy:\n",
        "        input_z = []\n",
        "        for i in range(len(X)):\n",
        "            zi = X[i][-1]\n",
        "            input_z.append(zi)\n",
        "        input_z = torch.stack(input_z)\n",
        "        assert input_z.shape == (n, d)\n",
        "    else:\n",
        "        input_z = X[:, -1].unsqueeze(1) # [n, d]\n",
        "\n",
        "    z = input_z.double() #dtype: torch.float64\n",
        "    return z\n"
      ],
      "metadata": {
        "id": "uFguuQFycg43"
      },
      "execution_count": 26,
      "outputs": []
    },
    {
      "cell_type": "code",
      "source": [
        "# get adj_mat: one of the input parameters of W_svm_solver_cvxpy\n",
        "def get_adjacency_matrix (token_choice, idx_token, C_alpha):\n",
        "    if token_choice == 'equi-corr':\n",
        "            adj_mat = np.zeros((K -1, K - 1, K -1)) # #of distinct last tokens, |ID|, |ID|\n",
        "    else:\n",
        "        adj_mat = np.zeros((K , K , K )) # #of distinct last tokens, |ID|, |ID|\n",
        "\n",
        "    for i in range(len(idx_token)):\n",
        "        for j in range(len(idx_token[i])):\n",
        "            if C_alpha[i] == idx_token[i][j]:\n",
        "                continue\n",
        "            adj_mat[idx_token[i][-1], C_alpha[i], idx_token[i][j]] = 1\n",
        "\n",
        "    return adj_mat"
      ],
      "metadata": {
        "id": "9QGoFhNaXvts"
      },
      "execution_count": 27,
      "outputs": []
    },
    {
      "cell_type": "markdown",
      "source": [
        "#### 11.3 Calculate $W^{svm}_1$, $W^{svm}_2$, and $W^{svm}$"
      ],
      "metadata": {
        "id": "FU3PYgFjxmdn"
      }
    },
    {
      "cell_type": "code",
      "source": [
        "def get_input_paras(data):\n",
        "\n",
        "      X = get_X(data)\n",
        "      idx_token = get_idx_token (data)\n",
        "      z = get_z(data, toy_case, batch_toy)\n",
        "      idx_z = get_idx_z(data)\n",
        "      C_alpha = get_C_alpha(data)\n",
        "      scc_klst = get_scc_klst(idx_z, idx_token, C_alpha)\n",
        "      adj_mat = get_adjacency_matrix (token_choice = token_choice, idx_token = idx_token, C_alpha = C_alpha)\n",
        "\n",
        "      return X, idx_token, z, idx_z, C_alpha, scc_klst, adj_mat\n"
      ],
      "metadata": {
        "id": "COZjjmZb0_90"
      },
      "execution_count": 28,
      "outputs": []
    },
    {
      "cell_type": "code",
      "source": [
        "def W_svm (data):\n",
        "\n",
        "\n",
        "\n",
        "      w_dir = W_svm_solver_cvxpy(Vocab, n, d, idx_z, idx_token, C_alpha, onetoken = False, wfin = False, adj_mat = adj_mat, scc_lst = scc_klst)\n",
        "\n",
        "      sol_cvx_list = np.zeros((nlayer, d, d))\n",
        "      sol_cvx_list[0] =  normalize_sol(w_dir) # normalized w_dir\n",
        "\n",
        "\n",
        "      return w_dir, sol_cvx_list\n"
      ],
      "metadata": {
        "id": "pInMhJmtlgmN"
      },
      "execution_count": 29,
      "outputs": []
    },
    {
      "cell_type": "markdown",
      "source": [
        "### Step 12. Generate $W_1(\\tau)$, $W_2(\\tau)$, $W(\\tau)$, where $\\tau = 1, ...., ITN$"
      ],
      "metadata": {
        "id": "kkU_QndyAgxL"
      }
    },
    {
      "cell_type": "markdown",
      "source": [
        "#### Step 12.1: self-attention model"
      ],
      "metadata": {
        "id": "-kdparDwY08Q"
      }
    },
    {
      "cell_type": "code",
      "source": [
        "model = MLayerAttn(d, regress = True, n_layer = nlayer, dim_t = T,\n",
        "                        identity_W=False, identity_V = True,\n",
        "                        factorize_W = factorize_w, init = initialize_w,\n",
        "                        skip = skip, layer_norm = layer_norm, avg_norm = avg_norm,\n",
        "                ).double()"
      ],
      "metadata": {
        "id": "3ZG2Fo7i3o5D"
      },
      "execution_count": 30,
      "outputs": []
    },
    {
      "cell_type": "markdown",
      "source": [
        "#### Step 12.2: $W$ training - train_W()"
      ],
      "metadata": {
        "id": "CJBSc5pPqSQx"
      }
    },
    {
      "cell_type": "code",
      "source": [
        "# Required input parameters for training\n",
        "def get_para_list (factorize_w, layer_norm, avg_norm):\n",
        "\n",
        "      if factorize_w:\n",
        "            parameter_list = [model.query1.weight, model.query2.weight, model.key1.weight, model.key2.weight]\n",
        "      else:\n",
        "          parameter_list = [m.weight for m in model.qklist]\n",
        "\n",
        "      if layer_norm and not avg_norm:\n",
        "          parameter_list += [model.ln.weight, model.ln.bias]\n",
        "\n",
        "      return parameter_list\n",
        "\n",
        "parameter_list = get_para_list(factorize_w, layer_norm, avg_norm)\n",
        "optimizer = torch.optim.SGD(parameter_list, lr=lr, )"
      ],
      "metadata": {
        "id": "aWw0Zi_klIs7"
      },
      "execution_count": 31,
      "outputs": []
    },
    {
      "cell_type": "code",
      "source": [
        "def train_W_specific(data):\n",
        "\n",
        "    # step 1. get required parpameters based on the specific data\n",
        "    X = get_X(data)\n",
        "    z = get_z(data, toy_case, batch_toy)\n",
        "    idx_z = get_idx_z(data)\n",
        "    idx_token = get_idx_token(data)\n",
        "    C_alpha = get_C_alpha(data)\n",
        "    scc_klst = get_scc_klst(idx_z, idx_token, C_alpha)\n",
        "\n",
        "    # step 2. initialize Wi_list and attn_probs\n",
        "\n",
        "    Wi_list = np.zeros((nlayer, ITN, d, d))\n",
        "    Wi_norm_list = np.zeros((nlayer, epochs, ITN))\n",
        "    attn_probs = np.zeros((len(dlist), epochs, ITN))\n",
        "\n",
        "    # step 3. train W\n",
        "    model_w= train_W(model, X, idx_token, z, token_choice, cls_choice, Vocab, C_alpha, nlayer, n, K, di, ei, ITN, toy_case, batch_toy, scc_klst,\n",
        "        loss_type, optimizer, norm_grad, parameter_list,\n",
        "        Wi_list = Wi_list, attn_probs = attn_probs, Wi_norm_list = Wi_norm_list,\n",
        "    )\n"
      ],
      "metadata": {
        "id": "0gW-alGVv9ZZ"
      },
      "execution_count": 32,
      "outputs": []
    },
    {
      "cell_type": "code",
      "source": [
        "di = len(dlist)-1\n",
        "ei = 0\n",
        "train_W_specific(data_topic_1)"
      ],
      "metadata": {
        "colab": {
          "base_uri": "https://localhost:8080/"
        },
        "id": "bajML2MXw9SC",
        "outputId": "36a82ace-7ba9-4f16-8b01-7f560b5eb0c7"
      },
      "execution_count": 33,
      "outputs": [
        {
          "output_type": "stream",
          "name": "stdout",
          "text": [
            "Norm of grad:  tensor(1.0000, dtype=torch.float64)\n",
            "Current iteration: 0, Loss: 0.7200\n",
            "Current iteration: 500, Loss: 0.3354\n",
            "Norm of grad:  tensor(1.0000, dtype=torch.float64)\n",
            "Current iteration: 1000, Loss: 0.2185\n",
            "Current iteration: 1500, Loss: 0.1612\n",
            "Norm of grad:  tensor(1.0000, dtype=torch.float64)\n",
            "Current iteration: 2000, Loss: 0.1311\n",
            "Current iteration: 2500, Loss: 0.1159\n",
            "Norm of grad:  tensor(1.0000, dtype=torch.float64)\n",
            "Current iteration: 3000, Loss: 0.1084\n",
            "Current iteration: 3500, Loss: 0.1047\n"
          ]
        }
      ]
    },
    {
      "cell_type": "markdown",
      "source": [
        "### Step 13. Correlation coefficient between $W^{svm}$ and $W(\\tau)$"
      ],
      "metadata": {
        "id": "A15UCMcGCt14"
      }
    },
    {
      "cell_type": "markdown",
      "source": [
        "#### 13.1 Get correlation coefficient\n"
      ],
      "metadata": {
        "id": "UhF6Ng62X8DO"
      }
    },
    {
      "cell_type": "code",
      "source": [
        "epochs = 1"
      ],
      "metadata": {
        "id": "Vt8UnaXTY0Qh"
      },
      "execution_count": 34,
      "outputs": []
    },
    {
      "cell_type": "code",
      "source": [
        "# initialize before running for loop \"epochs\"\n",
        "datasets = ['data_topic_1', 'data_topic_2', 'data_combine']\n",
        "attn_probs_values = {}\n",
        "corr_list_values = {}\n",
        "Wi_norm_list_values = {}\n",
        "last_W_tau = {}\n",
        "data_epochs = {}\n",
        "dict_token_epochs = {}\n",
        "X_epochs = {}\n",
        "z_epochs = {}\n",
        "last_W_epochs = {}\n",
        "sol_cvx_list_epochs = {}\n",
        "scc_klst_epochs = {}\n",
        "updated_tpgs_epochs = {}\n",
        "\n",
        "for data in datasets:\n",
        "      attn_probs_values[data] = np.zeros((len(dlist), epochs, ITN))\n",
        "      corr_list_values[data] = np.zeros((len(dlist), 2, epochs, ITN))\n",
        "      Wi_norm_list_values[data] = np.zeros((nlayer, epochs, ITN))\n"
      ],
      "metadata": {
        "id": "P4w7E4-69Bzd"
      },
      "execution_count": 35,
      "outputs": []
    },
    {
      "cell_type": "code",
      "source": [
        "for ei in range(epochs):\n",
        "      print(\"\\n********************************************\")\n",
        "      print(\"Current epoch:\", ei)\n",
        "\n",
        "      # Part 1: generate TPG for topic 1, topic 2, and combination\n",
        "\n",
        "      tpgs_1 = select_arrows_for_each_token(K, L)\n",
        "      updated_tpgs_1 = generate_tpg(tpgs_1) # TPG_1\n",
        "\n",
        "\n",
        "      tpgs_2 = select_arrows_for_each_token(K, L)\n",
        "      updated_tpgs_2 = generate_tpg(tpgs_2) #TPG_2\n",
        "\n",
        "\n",
        "      cb_tpgs = combine_tpgs(updated_tpgs_1, updated_tpgs_2)\n",
        "      updated_cb_tpgs = generate_tpg(cb_tpgs) # TPG_combine\n",
        "\n",
        "      updated_tpgs_epochs[ei] = {'topic_1': updated_tpgs_1,\n",
        "                                 'topic_2': updated_tpgs_2,\n",
        "                                 'combine': updated_cb_tpgs}\n",
        "\n",
        "\n",
        "\n",
        "      # Part 2: generate data and get input paras for topic 1, topic 2, and combination\n",
        "      ## 2.1 get vocabulary and dict_token\n",
        "      X_rm, Vocab, C_rm, dict_token, idx_token_rm = next_data( # Vocab and dict_token are required\n",
        "              n = n, T=T, K=K, d=d,\n",
        "              rep_seq = rep_seq, token_choice= token_choice,\n",
        "              same_last_token = same_last_token,\n",
        "              check_label = check_label, check_asyc = check_asyc)\n",
        "\n",
        "      dict_token_epochs[ei] = dict_token\n",
        "\n",
        "      ## 2.2 generate data\n",
        "      data_topic_1 = generate_data(updated_tpgs_1, n) # data for topic 1\n",
        "      data_topic_2 = generate_data(updated_tpgs_2, n) # data for topic 2\n",
        "      data_combine = generate_data(updated_cb_tpgs, n) # data for combination\n",
        "\n",
        "      data_epochs[ei] = {\n",
        "          'topic_1': data_topic_1,\n",
        "          'topic_2': data_topic_2,\n",
        "          'combine': data_combine\n",
        "      }\n",
        "\n",
        "      # Part 3: Calculate W^{svm} and W(\\tau) for each data\n",
        "\n",
        "      datasets = ['data_topic_1', 'data_topic_2', 'data_combine']\n",
        "      ## 3.1 input parameters needed\n",
        "      # Create dictionaries to store the returned values\n",
        "      X_values = {}\n",
        "      idx_token_values = {}\n",
        "      z_values = {}\n",
        "      idx_z_values = {}\n",
        "      C_alpha_values = {}\n",
        "      scc_klst_values = {}\n",
        "      adj_mat_values = {}\n",
        "      w_dir_values = {}\n",
        "      sol_cvx_list_values = {}\n",
        "      Wi_list_values = {}\n",
        "      last_W_tau = {}\n",
        "\n",
        "      for data in datasets:\n",
        "            X, idx_token, z, idx_z, C_alpha, scc_klst, adj_mat = get_input_paras(eval(data))\n",
        "\n",
        "            X_values[data] = X\n",
        "            idx_token_values[data] = idx_token\n",
        "            z_values[data] = z\n",
        "            idx_z_values[data] = idx_z\n",
        "            C_alpha_values[data] = C_alpha\n",
        "            scc_klst_values[data] = scc_klst\n",
        "            adj_mat_values[data] = adj_mat\n",
        "\n",
        "            ## 3.1 get W^{svm} for each data (w_dir_values[data] and sol_cvx_list_values[data][0])\n",
        "            w_dir_values[data] = W_svm_solver_cvxpy(Vocab, n, d, idx_z_values[data], idx_token_values[data],\n",
        "                                                    C_alpha_values[data], onetoken = False, wfin = False,\n",
        "                                                    adj_mat = adj_mat_values[data], scc_lst = scc_klst_values[data])\n",
        "\n",
        "            sol_cvx_list_values[data] = np.zeros((nlayer, d, d))\n",
        "            sol_cvx_list_values[data][0] =  normalize_sol(w_dir_values[data]) # normalized w_dir\n",
        "\n",
        "            ## 3.2 calculate W(\\tau)\n",
        "            model = MLayerAttn(d, regress = True, n_layer = nlayer, dim_t = T,\n",
        "                      identity_W=False, identity_V = True,\n",
        "                      factorize_W = factorize_w, init = initialize_w,\n",
        "                      skip = skip, layer_norm = layer_norm, avg_norm = avg_norm,\n",
        "              ).double()\n",
        "\n",
        "            parameter_list = get_para_list(factorize_w, layer_norm, avg_norm) # general_para_1\n",
        "            optimizer = torch.optim.SGD(parameter_list, lr=lr, ) # general_para_2\n",
        "\n",
        "            Wi_list_values[data] = np.zeros((nlayer, ITN, d, d)) # initialize Wi_list before training\n",
        "            model = train_W(model, X_values[data], idx_token_values[data], z_values[data], token_choice, cls_choice, Vocab,\n",
        "                            C_alpha_values[data], nlayer, n, K, di, ei, ITN, toy_case, batch_toy, scc_klst,\n",
        "                            loss_type, optimizer, norm_grad, parameter_list,\n",
        "                            Wi_list = Wi_list_values[data], attn_probs = attn_probs_values[data], Wi_norm_list = Wi_norm_list_values[data],\n",
        "                          )\n",
        "            ## 3.3 get correlation between W^{svm} and each W(\\tau) (\\tau = 1, 2, ..., ITN)\n",
        "            for it in range(ITN):\n",
        "                      Wi_list_values[data][0, it] /= np.linalg.norm(Wi_list_values[data][0, it])\n",
        "                      if not separa:\n",
        "                            corr_list_values[data][di, 0, ei, it] = Wi_list_values[data][0, it].reshape(-1).dot(sol_cvx_list_values[data][di].reshape(-1))\n",
        "                            # NOTE: the source code is sol_cvx_list[di]!\n",
        "\n",
        "            last_W_tau[data] = Wi_list_values[data][0, ITN-1]\n",
        "\n",
        "            print(\"For\", data, \"correlation of W and Wsvm: \", corr_list_values[data][di, 0, ei, -1])\n",
        "            print(\"----------------------------\")\n",
        "\n",
        "      last_W_epochs[ei] = last_W_tau\n",
        "      X_epochs[ei] = X_values\n",
        "      z_epochs[ei] = z_values\n",
        "      sol_cvx_list_epochs[ei] = sol_cvx_list_values\n",
        "      scc_klst_epochs[ei] = scc_klst_values\n"
      ],
      "metadata": {
        "colab": {
          "base_uri": "https://localhost:8080/"
        },
        "id": "75_-HSs4tiyR",
        "outputId": "2e61e56b-73e8-424e-d9c0-603017f65ece"
      },
      "execution_count": 36,
      "outputs": [
        {
          "output_type": "stream",
          "name": "stdout",
          "text": [
            "\n",
            "********************************************\n",
            "Current epoch: 0\n",
            "Norm of grad:  tensor(1.0000, dtype=torch.float64)\n",
            "Current iteration: 0, Loss: 0.7704\n",
            "Current iteration: 500, Loss: 0.2493\n",
            "Norm of grad:  tensor(1.0000, dtype=torch.float64)\n",
            "Current iteration: 1000, Loss: 0.1229\n",
            "Current iteration: 1500, Loss: 0.0662\n",
            "Norm of grad:  tensor(1.0000, dtype=torch.float64)\n",
            "Current iteration: 2000, Loss: 0.0360\n",
            "Current iteration: 2500, Loss: 0.0194\n",
            "Norm of grad:  tensor(1.0000, dtype=torch.float64)\n",
            "Current iteration: 3000, Loss: 0.0105\n",
            "Current iteration: 3500, Loss: 0.0056\n",
            "For data_topic_1 correlation of W and Wsvm:  0.971273631848978\n",
            "----------------------------\n",
            "Norm of grad:  tensor(1.0000, dtype=torch.float64)\n",
            "Current iteration: 0, Loss: 0.7285\n",
            "Current iteration: 500, Loss: 0.2185\n",
            "Norm of grad:  tensor(1.0000, dtype=torch.float64)\n",
            "Current iteration: 1000, Loss: 0.0675\n",
            "Current iteration: 1500, Loss: 0.0208\n",
            "Norm of grad:  tensor(1.0000, dtype=torch.float64)\n",
            "Current iteration: 2000, Loss: 0.0066\n",
            "Current iteration: 2500, Loss: 0.0021\n",
            "Norm of grad:  tensor(1.0000, dtype=torch.float64)\n",
            "Current iteration: 3000, Loss: 0.0007\n",
            "Current iteration: 3500, Loss: 0.0002\n",
            "For data_topic_2 correlation of W and Wsvm:  0.9799602170115498\n",
            "----------------------------\n",
            "Norm of grad:  tensor(1.0000, dtype=torch.float64)\n",
            "Current iteration: 0, Loss: 0.8945\n",
            "Current iteration: 500, Loss: 0.4095\n",
            "Norm of grad:  tensor(1.0000, dtype=torch.float64)\n",
            "Current iteration: 1000, Loss: 0.2683\n",
            "Current iteration: 1500, Loss: 0.1969\n",
            "Norm of grad:  tensor(1.0000, dtype=torch.float64)\n",
            "Current iteration: 2000, Loss: 0.1545\n",
            "Current iteration: 2500, Loss: 0.1264\n",
            "Norm of grad:  tensor(1.0000, dtype=torch.float64)\n",
            "Current iteration: 3000, Loss: 0.1063\n",
            "Current iteration: 3500, Loss: 0.0916\n",
            "For data_combine correlation of W and Wsvm:  0.9260756498621536\n",
            "----------------------------\n"
          ]
        }
      ]
    },
    {
      "cell_type": "markdown",
      "source": [
        "####13.2 Visualize Correlation Coefficient and Iteration"
      ],
      "metadata": {
        "id": "LgnARMCKIu4D"
      }
    },
    {
      "cell_type": "code",
      "source": [
        "labels = [\n",
        "    # r'$W(t)^{onetoken}$',\n",
        "    r'$W(\\tau)^{mm}$',\n",
        "    r'$W(\\tau)$',\n",
        "]\n",
        "\n",
        "for data in datasets:\n",
        "    print('\\n\\n For', data, ':')\n",
        "    show_corr(ITN, dlist, corr_list_values[data], wmm = True, labels = labels)"
      ],
      "metadata": {
        "colab": {
          "base_uri": "https://localhost:8080/",
          "height": 1000
        },
        "id": "T1LmhmZjEvk5",
        "outputId": "8fd75217-218a-4eb2-cecc-2d4acff32d6f"
      },
      "execution_count": 37,
      "outputs": [
        {
          "output_type": "stream",
          "name": "stdout",
          "text": [
            "\n",
            "\n",
            " For data_topic_1 :\n",
            "Only shows Wmm\n"
          ]
        },
        {
          "output_type": "display_data",
          "data": {
            "text/plain": [
              "<Figure size 800x600 with 1 Axes>"
            ],
            "image/png": "[encoded data removed]"
          },
          "metadata": {}
        },
        {
          "output_type": "stream",
          "name": "stdout",
          "text": [
            "\n",
            "\n",
            " For data_topic_2 :\n",
            "Only shows Wmm\n"
          ]
        },
        {
          "output_type": "display_data",
          "data": {
            "text/plain": [
              "<Figure size 800x600 with 1 Axes>"
            ],
            "image/png": "[encoded data removed]"
          },
          "metadata": {}
        },
        {
          "output_type": "stream",
          "name": "stdout",
          "text": [
            "\n",
            "\n",
            " For data_combine :\n",
            "Only shows Wmm\n"
          ]
        },
        {
          "output_type": "display_data",
          "data": {
            "text/plain": [
              "<Figure size 800x600 with 1 Axes>"
            ],
            "image/png": "[encoded data removed]"
          },
          "metadata": {}
        }
      ]
    },
    {
      "cell_type": "markdown",
      "source": [
        "# Part 4: Generate the next tokens and check the similarity next token generated by the combined topics and the only one topic"
      ],
      "metadata": {
        "id": "JTt4z71M3Z77"
      }
    },
    {
      "cell_type": "markdown",
      "source": [
        "### Step 14. Generate next token for input sequence from Topic 1"
      ],
      "metadata": {
        "id": "xVLt51CL33kW"
      }
    },
    {
      "cell_type": "code",
      "source": [
        "def generate_next_token(ei_test, topic, W_test):\n",
        "\n",
        "      y_hat_idx = []\n",
        "      y_hat = []\n",
        "      softmax_output_n = []\n",
        "      XWz_n = []\n",
        "\n",
        "      for i in range(n):\n",
        "\n",
        "          X_i = torch.tensor(X_epochs[ei_test][topic][i])\n",
        "          z_test_i= z_epochs[ei_test][topic][i]\n",
        "          z_i_transpose = z_test_i.T\n",
        "          XWz = torch.matmul(X_i, torch.matmul(W_test, z_i_transpose))\n",
        "          XWz_n.append(XWz)\n",
        "\n",
        "          softmax_output = F.softmax(XWz, dim = 0)\n",
        "          softmax_output_n.append(softmax_output)\n",
        "\n",
        "          X_i_transpose = X_i.T\n",
        "          f_Xi = torch.matmul(X_i_transpose, softmax_output) # embedding of the next token, shape (d, 1)\n",
        "          f_Xi /= np.linalg.norm(f_Xi) # normalized embedding of the next token\n",
        "\n",
        "          max_value = -float('inf')  # Initialize maximum value\n",
        "          y_hat_i = None\n",
        "          y_hat_i_eb = None\n",
        "\n",
        "          for k in range(K):\n",
        "              e_i = dict_token_epochs[ei_test][k] # shape (d)\n",
        "              e_i_2d = e_i.unsqueeze(0) # shape (1, d)\n",
        "              e_i_2d /= np.linalg.norm(e_i_2d)\n",
        "\n",
        "              dot_prod = e_i_2d @ f_Xi\n",
        "\n",
        "              if dot_prod > max_value:\n",
        "                  max_value = dot_prod\n",
        "                  y_hat_i = k\n",
        "                  y_hat_i_eb = dict_token_epochs[ei_test][k]\n",
        "\n",
        "          y_hat_idx.append(y_hat_i)\n",
        "          y_hat.append(y_hat_i_eb)\n",
        "\n",
        "\n",
        "      return y_hat_idx, y_hat, softmax_output_n, XWz_n"
      ],
      "metadata": {
        "id": "sOYr3DH827xX"
      },
      "execution_count": 38,
      "outputs": []
    },
    {
      "cell_type": "code",
      "source": [
        "# Randomly choose one epoch's data from all epochs for test\n",
        "ei_test = random.choice(range(epochs))\n",
        "ei_test"
      ],
      "metadata": {
        "colab": {
          "base_uri": "https://localhost:8080/"
        },
        "id": "Z-JPenZ9iOkC",
        "outputId": "f5b06549-6436-42fa-a5d8-6f04e713adcc"
      },
      "execution_count": 39,
      "outputs": [
        {
          "output_type": "execute_result",
          "data": {
            "text/plain": [
              "0"
            ]
          },
          "metadata": {},
          "execution_count": 39
        }
      ]
    },
    {
      "cell_type": "code",
      "source": [
        "# Extract W^{svm}, W_1(\\tau), W_2(\\tau), W_cb(\\tau) of the selected epoch\n",
        "W_svm_test = torch.tensor(sol_cvx_list_epochs[ei_test]['data_topic_1'][0])\n",
        "\n",
        "W_1_test = torch.tensor(last_W_epochs[ei_test]['data_topic_1'])\n",
        "W_2_test = torch.tensor(last_W_epochs[ei_test]['data_topic_2'])\n",
        "W_cb_test = torch.tensor(last_W_epochs[ei_test]['data_combine'])"
      ],
      "metadata": {
        "id": "XvbD5KVlmYgU"
      },
      "execution_count": 40,
      "outputs": []
    },
    {
      "cell_type": "markdown",
      "source": [
        "#### Using $W_1^{svm}$"
      ],
      "metadata": {
        "id": "CTBZvzSa4b3E"
      }
    },
    {
      "cell_type": "code",
      "source": [
        "y_hat_idx_svm, y_hat_svm, softmax_svm, XWz_n_svm = generate_next_token(ei_test = ei_test, topic = 'data_topic_1', W_test = W_svm_test)\n",
        "y_hat_idx_svm"
      ],
      "metadata": {
        "colab": {
          "base_uri": "https://localhost:8080/"
        },
        "id": "ULoVPzem3lBz",
        "outputId": "cb26fe0b-e486-4783-8a3c-97984ec47329"
      },
      "execution_count": 41,
      "outputs": [
        {
          "output_type": "stream",
          "name": "stderr",
          "text": [
            "<ipython-input-38-fa3973bad719>:10: UserWarning: To copy construct from a tensor, it is recommended to use sourceTensor.clone().detach() or sourceTensor.clone().detach().requires_grad_(True), rather than torch.tensor(sourceTensor).\n",
            "  X_i = torch.tensor(X_epochs[ei_test][topic][i])\n"
          ]
        },
        {
          "output_type": "execute_result",
          "data": {
            "text/plain": [
              "[7,\n",
              " 4,\n",
              " 0,\n",
              " 0,\n",
              " 2,\n",
              " 5,\n",
              " 4,\n",
              " 0,\n",
              " 1,\n",
              " 6,\n",
              " 1,\n",
              " 3,\n",
              " 6,\n",
              " 0,\n",
              " 1,\n",
              " 3,\n",
              " 3,\n",
              " 3,\n",
              " 0,\n",
              " 4,\n",
              " 4,\n",
              " 1,\n",
              " 0,\n",
              " 1,\n",
              " 6,\n",
              " 3,\n",
              " 4,\n",
              " 1,\n",
              " 4,\n",
              " 3,\n",
              " 6,\n",
              " 0,\n",
              " 6,\n",
              " 7,\n",
              " 6,\n",
              " 4,\n",
              " 7,\n",
              " 6,\n",
              " 5,\n",
              " 5,\n",
              " 5,\n",
              " 5,\n",
              " 7,\n",
              " 0,\n",
              " 6,\n",
              " 1,\n",
              " 0,\n",
              " 7,\n",
              " 5,\n",
              " 1,\n",
              " 7,\n",
              " 4,\n",
              " 1,\n",
              " 2,\n",
              " 2,\n",
              " 7,\n",
              " 6,\n",
              " 1,\n",
              " 7,\n",
              " 2,\n",
              " 7,\n",
              " 4,\n",
              " 4,\n",
              " 0,\n",
              " 1,\n",
              " 6,\n",
              " 7,\n",
              " 4,\n",
              " 3,\n",
              " 6,\n",
              " 6,\n",
              " 7,\n",
              " 7,\n",
              " 6,\n",
              " 1,\n",
              " 7,\n",
              " 1,\n",
              " 6,\n",
              " 2,\n",
              " 3,\n",
              " 1,\n",
              " 7,\n",
              " 0,\n",
              " 3,\n",
              " 6,\n",
              " 5,\n",
              " 4,\n",
              " 7,\n",
              " 7,\n",
              " 4,\n",
              " 3,\n",
              " 5,\n",
              " 2,\n",
              " 1,\n",
              " 4,\n",
              " 1,\n",
              " 7,\n",
              " 3,\n",
              " 7,\n",
              " 5]"
            ]
          },
          "metadata": {},
          "execution_count": 41
        }
      ]
    },
    {
      "cell_type": "markdown",
      "source": [
        "#### Using $W_1{(\\tau)}$ , where $\\tau=\\text{ITN}$"
      ],
      "metadata": {
        "id": "Zks7SmqA4sI0"
      }
    },
    {
      "cell_type": "code",
      "source": [
        "y_hat_idx_W1, y_hat_W1, softmax_W1, XWz_n_W1= generate_next_token(ei_test = ei_test, topic = 'data_topic_1', W_test = W_1_test)"
      ],
      "metadata": {
        "colab": {
          "base_uri": "https://localhost:8080/"
        },
        "id": "uobMuB_U4rSZ",
        "outputId": "1b5fc72f-7954-4daa-c332-453ab9e786a4"
      },
      "execution_count": 42,
      "outputs": [
        {
          "output_type": "stream",
          "name": "stderr",
          "text": [
            "<ipython-input-38-fa3973bad719>:10: UserWarning: To copy construct from a tensor, it is recommended to use sourceTensor.clone().detach() or sourceTensor.clone().detach().requires_grad_(True), rather than torch.tensor(sourceTensor).\n",
            "  X_i = torch.tensor(X_epochs[ei_test][topic][i])\n"
          ]
        }
      ]
    },
    {
      "cell_type": "markdown",
      "source": [
        "#### Using $W_2{(\\tau)}$, where $\\tau=\\text{ITN}$"
      ],
      "metadata": {
        "id": "ErYT7pRY6Ph-"
      }
    },
    {
      "cell_type": "code",
      "source": [
        "y_hat_idx_W2, y_hat_W2, softmax_W2, XWz_n_W2 = generate_next_token(ei_test = ei_test, topic = 'data_topic_1', W_test = W_2_test)\n"
      ],
      "metadata": {
        "colab": {
          "base_uri": "https://localhost:8080/"
        },
        "id": "dQUhMsRW6O_g",
        "outputId": "788bde7a-7d09-4f29-aeee-f8f9f1ef10e0"
      },
      "execution_count": 43,
      "outputs": [
        {
          "output_type": "stream",
          "name": "stderr",
          "text": [
            "<ipython-input-38-fa3973bad719>:10: UserWarning: To copy construct from a tensor, it is recommended to use sourceTensor.clone().detach() or sourceTensor.clone().detach().requires_grad_(True), rather than torch.tensor(sourceTensor).\n",
            "  X_i = torch.tensor(X_epochs[ei_test][topic][i])\n"
          ]
        }
      ]
    },
    {
      "cell_type": "markdown",
      "source": [
        "#### Using $W_{cb}{(\\tau)}$, where $\\tau=\\text{ITN}$"
      ],
      "metadata": {
        "id": "Hzytyila6Sqs"
      }
    },
    {
      "cell_type": "code",
      "source": [
        "y_hat_idx_Wcb, y_hat_Wcb, softmax_Wcb, XWz_n_Wcb = generate_next_token(ei_test = ei_test, topic = 'data_topic_1', W_test = W_cb_test)"
      ],
      "metadata": {
        "colab": {
          "base_uri": "https://localhost:8080/"
        },
        "id": "nWpNv3__6xe_",
        "outputId": "1e0ba136-b23c-4dcf-bb83-e77f97ae9e3d"
      },
      "execution_count": 44,
      "outputs": [
        {
          "output_type": "stream",
          "name": "stderr",
          "text": [
            "<ipython-input-38-fa3973bad719>:10: UserWarning: To copy construct from a tensor, it is recommended to use sourceTensor.clone().detach() or sourceTensor.clone().detach().requires_grad_(True), rather than torch.tensor(sourceTensor).\n",
            "  X_i = torch.tensor(X_epochs[ei_test][topic][i])\n"
          ]
        }
      ]
    },
    {
      "cell_type": "markdown",
      "source": [
        "## Step 15. Compare the similarity of the next token generated by different $W$"
      ],
      "metadata": {
        "id": "oGIPaFZq-hyq"
      }
    },
    {
      "cell_type": "markdown",
      "source": [
        "### Results from token_choice = 'random'"
      ],
      "metadata": {
        "id": "XqDsVtrCfzpd"
      }
    },
    {
      "cell_type": "code",
      "source": [
        "# check different prediction from topic 1 and topic combination\n",
        "diff_t1_cb = 0 # count # of diff next tokens\n",
        "diff_seqs = [] # save the sequence ID in the input data\n",
        "diff_seqs_last = set() # save the last token ID the difference comes from\n",
        "\n",
        "for i in range(n):\n",
        "\n",
        "    if y_hat_idx_W1[i] != y_hat_idx_Wcb[i]:\n",
        "        diff_t1_cb+=1\n",
        "        diff_seqs.append(i)\n",
        "        print('==============================================================================')\n",
        "        print(\"For\", i, \"sequence:\")\n",
        "        print(\"next token from W1:\", y_hat_idx_W1[i])\n",
        "        print(\"next token from W2:\", y_hat_idx_W2[i])\n",
        "        print(\"next token from Wcb\", y_hat_idx_Wcb[i])\n",
        "        seq = data_epochs[ei_test]['topic_1'][i]\n",
        "        print(\"sequence:\", seq)\n",
        "        last_token = data_epochs[ei_test]['topic_1'][i][0][-1]\n",
        "        diff_seqs_last.add(last_token)\n",
        "        print(\"\\n************** Topic 1 **************\")\n",
        "        print(\"scc_lst for the token\", last_token, \":\", scc_klst_epochs[ei_test]['data_topic_1'][last_token] )\n",
        "        print(\"tpg for the last token\", last_token, \":\", updated_tpgs_epochs[ei_test]['topic_1'][last_token])\n",
        "        print(\"softmax output:\", softmax_W1[i])\n",
        "        print(\"softmax input:\", XWz_n_W1[i])\n",
        "        print(\"\\n************** Topic 2 **************\")\n",
        "        print(\"scc_lst for the token\", last_token,  \":\", scc_klst_epochs[ei_test]['data_topic_2'][last_token] )\n",
        "        print(\"tpg for the last token\", last_token, \":\", updated_tpgs_epochs[ei_test]['topic_2'][last_token])\n",
        "        print(\"softmax output:\", softmax_W2[i])\n",
        "        print(\"softmax input:\", XWz_n_W2[i])\n",
        "        print(\"\\n************** Topic Combination **************\")\n",
        "        print(\"scc_lst for the token\", last_token,  \":\", scc_klst_epochs[ei_test]['data_combine'][last_token] )\n",
        "        print(\"tpg for the last token\", last_token, \":\", updated_tpgs_epochs[ei_test]['combine'][last_token])\n",
        "        print(\"softmax output:\", softmax_Wcb[i])\n",
        "        print(\"softmax input:\", XWz_n_Wcb[i])\n",
        "print(\"Number of different next tokens from Topic 1 and Combine:\", diff_t1_cb, \"out of\", n)"
      ],
      "metadata": {
        "colab": {
          "base_uri": "https://localhost:8080/"
        },
        "id": "dS5GgYpaGBzO",
        "outputId": "f48b6c01-82dd-402e-c42a-994ad7d2004f"
      },
      "execution_count": 45,
      "outputs": [
        {
          "output_type": "stream",
          "name": "stdout",
          "text": [
            "==============================================================================\n",
            "For 34 sequence:\n",
            "next token from W1: 6\n",
            "next token from W2: 6\n",
            "next token from Wcb 0\n",
            "sequence: ([7, 6, 4, 0], 6)\n",
            "\n",
            "************** Topic 1 **************\n",
            "scc_lst for the token 0 : [0, 1, 2, 3, 4, 5, 7, 6]\n",
            "tpg for the last token 0 : [(7, 0), (7, 6), (0, 4), (0, 6), (4, 6)]\n",
            "softmax output: tensor([[0.2525],\n",
            "        [0.3046],\n",
            "        [0.2630],\n",
            "        [0.1800]], dtype=torch.float64)\n",
            "softmax input: tensor([[-0.0503],\n",
            "        [ 0.1371],\n",
            "        [-0.0097],\n",
            "        [-0.3890]], dtype=torch.float64)\n",
            "\n",
            "************** Topic 2 **************\n",
            "scc_lst for the token 0 : [0, 1, 2, 3, 4, 6, 7, 5]\n",
            "tpg for the last token 0 : [(0, 6), (7, 4), (6, 3), (7, 5), (4, 0), (0, 5), (3, 5)]\n",
            "softmax output: tensor([[0.2000],\n",
            "        [0.3369],\n",
            "        [0.2322],\n",
            "        [0.2310]], dtype=torch.float64)\n",
            "softmax input: tensor([[-0.2222],\n",
            "        [ 0.2994],\n",
            "        [-0.0725],\n",
            "        [-0.0780]], dtype=torch.float64)\n",
            "\n",
            "************** Topic Combination **************\n",
            "scc_lst for the token 0 : [1, 2, 3, 4, 1, 5, 6, 0]\n",
            "tpg for the last token 0 : [(7, 0), (7, 6), (0, 4), (0, 6), (4, 6), (7, 4), (6, 3), (7, 5), (4, 0), (0, 5), (3, 5)]\n",
            "softmax output: tensor([[0.2303],\n",
            "        [0.3024],\n",
            "        [0.2361],\n",
            "        [0.2312]], dtype=torch.float64)\n",
            "softmax input: tensor([[-0.1979],\n",
            "        [ 0.0744],\n",
            "        [-0.1731],\n",
            "        [-0.1941]], dtype=torch.float64)\n",
            "==============================================================================\n",
            "For 50 sequence:\n",
            "next token from W1: 6\n",
            "next token from W2: 7\n",
            "next token from Wcb 7\n",
            "sequence: ([7, 6, 7, 2], 6)\n",
            "\n",
            "************** Topic 1 **************\n",
            "scc_lst for the token 2 : [0, 6, 3, 1, 7, 2, 5, 4]\n",
            "tpg for the last token 2 : [(5, 2), (7, 3), (6, 1), (7, 6), (2, 1), (3, 1), (3, 2), (2, 6), (3, 5)]\n",
            "softmax output: tensor([[0.2354],\n",
            "        [0.2818],\n",
            "        [0.2354],\n",
            "        [0.2474]], dtype=torch.float64)\n",
            "softmax input: tensor([[-0.0602],\n",
            "        [ 0.1199],\n",
            "        [-0.0602],\n",
            "        [-0.0106]], dtype=torch.float64)\n",
            "\n",
            "************** Topic 2 **************\n",
            "scc_lst for the token 2 : [0, 1, 2, 3, 4, 5, 6, 7]\n",
            "tpg for the last token 2 : [(2, 6), (2, 7), (7, 3), (6, 4), (3, 4), (3, 6)]\n",
            "softmax output: tensor([[0.2688],\n",
            "        [0.2585],\n",
            "        [0.2688],\n",
            "        [0.2038]], dtype=torch.float64)\n",
            "softmax input: tensor([[ 0.1945],\n",
            "        [ 0.1554],\n",
            "        [ 0.1945],\n",
            "        [-0.0827]], dtype=torch.float64)\n",
            "\n",
            "************** Topic Combination **************\n",
            "scc_lst for the token 2 : [0, 5, 3, 1, 6, 2, 4, 7]\n",
            "tpg for the last token 2 : [(5, 2), (7, 3), (6, 1), (7, 6), (2, 1), (3, 1), (3, 2), (2, 6), (3, 5), (2, 7), (6, 4), (3, 4), (3, 6), (1, 4)]\n",
            "softmax output: tensor([[0.2696],\n",
            "        [0.2405],\n",
            "        [0.2696],\n",
            "        [0.2203]], dtype=torch.float64)\n",
            "softmax input: tensor([[ 0.1767],\n",
            "        [ 0.0627],\n",
            "        [ 0.1767],\n",
            "        [-0.0255]], dtype=torch.float64)\n",
            "==============================================================================\n",
            "For 96 sequence:\n",
            "next token from W1: 6\n",
            "next token from W2: 7\n",
            "next token from Wcb 7\n",
            "sequence: ([7, 6, 7, 2], 6)\n",
            "\n",
            "************** Topic 1 **************\n",
            "scc_lst for the token 2 : [0, 6, 3, 1, 7, 2, 5, 4]\n",
            "tpg for the last token 2 : [(5, 2), (7, 3), (6, 1), (7, 6), (2, 1), (3, 1), (3, 2), (2, 6), (3, 5)]\n",
            "softmax output: tensor([[0.2354],\n",
            "        [0.2818],\n",
            "        [0.2354],\n",
            "        [0.2474]], dtype=torch.float64)\n",
            "softmax input: tensor([[-0.0602],\n",
            "        [ 0.1199],\n",
            "        [-0.0602],\n",
            "        [-0.0106]], dtype=torch.float64)\n",
            "\n",
            "************** Topic 2 **************\n",
            "scc_lst for the token 2 : [0, 1, 2, 3, 4, 5, 6, 7]\n",
            "tpg for the last token 2 : [(2, 6), (2, 7), (7, 3), (6, 4), (3, 4), (3, 6)]\n",
            "softmax output: tensor([[0.2688],\n",
            "        [0.2585],\n",
            "        [0.2688],\n",
            "        [0.2038]], dtype=torch.float64)\n",
            "softmax input: tensor([[ 0.1945],\n",
            "        [ 0.1554],\n",
            "        [ 0.1945],\n",
            "        [-0.0827]], dtype=torch.float64)\n",
            "\n",
            "************** Topic Combination **************\n",
            "scc_lst for the token 2 : [0, 5, 3, 1, 6, 2, 4, 7]\n",
            "tpg for the last token 2 : [(5, 2), (7, 3), (6, 1), (7, 6), (2, 1), (3, 1), (3, 2), (2, 6), (3, 5), (2, 7), (6, 4), (3, 4), (3, 6), (1, 4)]\n",
            "softmax output: tensor([[0.2696],\n",
            "        [0.2405],\n",
            "        [0.2696],\n",
            "        [0.2203]], dtype=torch.float64)\n",
            "softmax input: tensor([[ 0.1767],\n",
            "        [ 0.0627],\n",
            "        [ 0.1767],\n",
            "        [-0.0255]], dtype=torch.float64)\n",
            "Number of different next tokens from Topic 1 and Combine: 3 out of 100\n"
          ]
        }
      ]
    },
    {
      "cell_type": "markdown",
      "source": [
        "#### Check Results"
      ],
      "metadata": {
        "id": "S7gxyIzckgej"
      }
    },
    {
      "cell_type": "code",
      "source": [
        "diff_seqs_last"
      ],
      "metadata": {
        "colab": {
          "base_uri": "https://localhost:8080/"
        },
        "id": "yHG--DMmnDWg",
        "outputId": "d7ca0bd0-2125-4449-fe56-3d360f091650"
      },
      "execution_count": 47,
      "outputs": [
        {
          "output_type": "execute_result",
          "data": {
            "text/plain": [
              "{0, 2}"
            ]
          },
          "metadata": {},
          "execution_count": 47
        }
      ]
    },
    {
      "cell_type": "code",
      "source": [
        "# Reproduce the TPG based on the last token from diff_seqs_last\n",
        "input_1 = data_epochs[ei_test]['topic_1']\n",
        "input_2 = data_epochs[ei_test]['topic_2']\n",
        "input_combine = data_epochs[ei_test]['combine']\n",
        "for item in diff_seqs_last:\n",
        "  extract_input_1 = [seq for seq in input_1 if seq[0][-1] == item]\n",
        "  extract_input_2 = [seq for seq in input_2 if seq[0][-1] == item]\n",
        "  extract_input_combine = [seq for seq in input_combine if seq[0][-1] == item]\n",
        "  print(\"\\n================================================================\\n\")\n",
        "  print(f\"Seqences with the last token {item}:\")\n",
        "  print(\"extracted_input_topic_1:\", extract_input_1)\n",
        "  print(\"extracted_input_topic_2:\", extract_input_2)\n",
        "  print(\"extracted_input_topic_combine:\", extract_input_combine)\n",
        "  print(\"scc_topic_1:\", scc_klst_epochs[ei_test]['data_topic_1'][item])\n",
        "  print(\"scc_topic_2:\", scc_klst_epochs[ei_test]['data_topic_2'][item])\n",
        "  print(\"scc_topic_combine:\", scc_klst_epochs[ei_test]['data_combine'][item])\n",
        "  print(\"tpgs_topic_1:\", updated_tpgs_epochs[ei_test]['topic_1'][item])\n",
        "  print(\"tpgs_topic_2:\", updated_tpgs_epochs[ei_test]['topic_2'][item])\n",
        "  print(\"tpgs_topic_combine:\", updated_tpgs_epochs[ei_test]['combine'][item])"
      ],
      "metadata": {
        "colab": {
          "base_uri": "https://localhost:8080/"
        },
        "id": "ADz033m9n5Hm",
        "outputId": "e5cca3d6-a686-40cc-c900-fcf1c68f987d"
      },
      "execution_count": 51,
      "outputs": [
        {
          "output_type": "stream",
          "name": "stdout",
          "text": [
            "\n",
            "================================================================\n",
            "\n",
            "Seqences with the last token 0:\n",
            "extracted_input_topic_1: [([6, 7, 7, 0], 6), ([4, 0, 4, 0], 4), ([7, 6, 0, 0], 6), ([4, 4, 0, 0], 4), ([0, 6, 6, 0], 6), ([7, 6, 0, 0], 6), ([4, 0, 4, 0], 4), ([6, 0, 7, 0], 6), ([0, 4, 4, 0], 4), ([0, 4, 4, 0], 4), ([6, 7, 6, 0], 6), ([7, 6, 6, 0], 6), ([7, 6, 4, 0], 6), ([4, 4, 4, 0], 4), ([0, 4, 4, 0], 4), ([4, 0, 4, 0], 4)]\n",
            "extracted_input_topic_2: [([6, 6, 6, 0], 6), ([5, 5, 0, 0], 5), ([0, 6, 6, 0], 6), ([6, 0, 0, 0], 6), ([6, 6, 6, 0], 6), ([7, 7, 5, 0], 5), ([5, 5, 5, 0], 5), ([5, 0, 0, 0], 5), ([6, 6, 6, 0], 6), ([5, 5, 7, 0], 5)]\n",
            "extracted_input_topic_combine: [([5, 0, 0, 0], 5), ([5, 5, 5, 0], 5), ([4, 0, 7, 0], 0), ([7, 5, 0, 0], 5), ([0, 0, 0, 0], 0), ([7, 5, 3, 0], 5), ([4, 6, 6, 0], 6), ([0, 7, 5, 0], 5), ([5, 5, 5, 0], 5), ([5, 0, 3, 0], 5), ([7, 6, 6, 0], 6), ([0, 4, 4, 0], 4), ([6, 6, 7, 0], 6)]\n",
            "scc_topic_1: [0, 1, 2, 3, 4, 5, 7, 6]\n",
            "scc_topic_2: [0, 1, 2, 3, 4, 6, 7, 5]\n",
            "scc_topic_combine: [1, 2, 3, 4, 1, 5, 6, 0]\n",
            "tpgs_topic_1: [(7, 0), (7, 6), (0, 4), (0, 6), (4, 6)]\n",
            "tpgs_topic_2: [(0, 6), (7, 4), (6, 3), (7, 5), (4, 0), (0, 5), (3, 5)]\n",
            "tpgs_topic_combine: [(7, 0), (7, 6), (0, 4), (0, 6), (4, 6), (7, 4), (6, 3), (7, 5), (4, 0), (0, 5), (3, 5)]\n",
            "\n",
            "================================================================\n",
            "\n",
            "Seqences with the last token 2:\n",
            "extracted_input_topic_1: [([6, 7, 2, 2], 6), ([1, 6, 1, 2], 1), ([1, 1, 3, 2], 1), ([7, 6, 7, 2], 6), ([3, 5, 2, 2], 2), ([2, 7, 6, 2], 6), ([2, 2, 5, 2], 2), ([6, 6, 6, 2], 6), ([3, 2, 3, 2], 2), ([3, 2, 3, 2], 2), ([7, 6, 7, 2], 6)]\n",
            "extracted_input_topic_2: [([6, 3, 3, 2], 6), ([3, 6, 3, 2], 6), ([7, 7, 7, 2], 7), ([6, 6, 6, 2], 6), ([2, 2, 2, 2], 2), ([6, 6, 6, 2], 6), ([2, 7, 7, 2], 7), ([3, 2, 6, 2], 6), ([6, 6, 3, 2], 6), ([3, 2, 6, 2], 6), ([6, 6, 3, 2], 6), ([3, 2, 6, 2], 6), ([2, 2, 2, 2], 2)]\n",
            "extracted_input_topic_combine: [([2, 3, 5, 2], 2), ([3, 3, 2, 2], 2), ([2, 2, 3, 2], 2), ([3, 2, 3, 2], 2), ([1, 2, 1, 2], 1), ([3, 1, 3, 2], 1), ([2, 2, 7, 2], 7), ([2, 2, 7, 2], 7), ([1, 1, 6, 2], 1), ([2, 7, 7, 2], 7), ([2, 2, 2, 2], 2), ([6, 2, 2, 2], 6), ([2, 2, 7, 2], 7), ([7, 2, 7, 2], 7), ([2, 2, 2, 2], 2), ([6, 2, 2, 2], 6), ([3, 1, 3, 2], 1)]\n",
            "scc_topic_1: [0, 6, 3, 1, 7, 2, 5, 4]\n",
            "scc_topic_2: [0, 1, 2, 3, 4, 5, 6, 7]\n",
            "scc_topic_combine: [0, 5, 3, 1, 6, 2, 4, 7]\n",
            "tpgs_topic_1: [(5, 2), (7, 3), (6, 1), (7, 6), (2, 1), (3, 1), (3, 2), (2, 6), (3, 5)]\n",
            "tpgs_topic_2: [(2, 6), (2, 7), (7, 3), (6, 4), (3, 4), (3, 6)]\n",
            "tpgs_topic_combine: [(5, 2), (7, 3), (6, 1), (7, 6), (2, 1), (3, 1), (3, 2), (2, 6), (3, 5), (2, 7), (6, 4), (3, 4), (3, 6), (1, 4)]\n"
          ]
        }
      ]
    },
    {
      "cell_type": "markdown",
      "source": [
        "## Re-run whole process with token_choice = 'ortho'"
      ],
      "metadata": {
        "id": "zBi35t9cgCEY"
      }
    },
    {
      "cell_type": "code",
      "source": [
        "epochs = 1\n",
        "token_choice = 'ortho'"
      ],
      "metadata": {
        "id": "-7TgZyYs9ZLt"
      },
      "execution_count": 53,
      "outputs": []
    },
    {
      "cell_type": "code",
      "source": [
        "# initialize before running for loop \"epochs\"\n",
        "datasets = ['data_topic_1', 'data_topic_2', 'data_combine']\n",
        "attn_probs_values = {}\n",
        "corr_list_values = {}\n",
        "Wi_norm_list_values = {}\n",
        "last_W_tau = {}\n",
        "data_epochs = {}\n",
        "dict_token_epochs = {}\n",
        "X_epochs = {}\n",
        "z_epochs = {}\n",
        "last_W_epochs = {}\n",
        "sol_cvx_list_epochs = {}\n",
        "scc_klst_epochs = {}\n",
        "updated_tpgs_epochs = {}\n",
        "\n",
        "for data in datasets:\n",
        "      attn_probs_values[data] = np.zeros((len(dlist), epochs, ITN))\n",
        "      corr_list_values[data] = np.zeros((len(dlist), 2, epochs, ITN))\n",
        "      Wi_norm_list_values[data] = np.zeros((nlayer, epochs, ITN))"
      ],
      "metadata": {
        "id": "jat4QqDy9bt1"
      },
      "execution_count": 54,
      "outputs": []
    },
    {
      "cell_type": "code",
      "source": [
        "for ei in range(epochs):\n",
        "      print(\"\\n********************************************\")\n",
        "      print(\"Current epoch:\", ei)\n",
        "\n",
        "      # Part 1: generate TPG for topic 1, topic 2, and combination\n",
        "\n",
        "      tpgs_1 = select_arrows_for_each_token(K, L)\n",
        "      updated_tpgs_1 = generate_tpg(tpgs_1) # TPG_1\n",
        "\n",
        "\n",
        "      tpgs_2 = select_arrows_for_each_token(K, L)\n",
        "      updated_tpgs_2 = generate_tpg(tpgs_2) #TPG_2\n",
        "\n",
        "\n",
        "      cb_tpgs = combine_tpgs(updated_tpgs_1, updated_tpgs_2)\n",
        "      updated_cb_tpgs = generate_tpg(cb_tpgs) # TPG_combine\n",
        "\n",
        "      updated_tpgs_epochs[ei] = {'topic_1': updated_tpgs_1,\n",
        "                                 'topic_2': updated_tpgs_2,\n",
        "                                 'combine': updated_cb_tpgs}\n",
        "\n",
        "\n",
        "\n",
        "      # Part 2: generate data and get input paras for topic 1, topic 2, and combination\n",
        "      ## 2.1 get vocabulary and dict_token\n",
        "      X_rm, Vocab, C_rm, dict_token, idx_token_rm = next_data( # Vocab and dict_token are required\n",
        "              n = n, T=T, K=K, d=d,\n",
        "              rep_seq = rep_seq, token_choice= token_choice,\n",
        "              same_last_token = same_last_token,\n",
        "              check_label = check_label, check_asyc = check_asyc)\n",
        "\n",
        "      dict_token_epochs[ei] = dict_token\n",
        "\n",
        "      ## 2.2 generate data\n",
        "      data_topic_1 = generate_data(updated_tpgs_1, n) # data for topic 1\n",
        "      data_topic_2 = generate_data(updated_tpgs_2, n) # data for topic 2\n",
        "      data_combine = generate_data(updated_cb_tpgs, n) # data for combination\n",
        "\n",
        "      data_epochs[ei] = {\n",
        "          'topic_1': data_topic_1,\n",
        "          'topic_2': data_topic_2,\n",
        "          'combine': data_combine\n",
        "      }\n",
        "\n",
        "      # Part 3: Calculate W^{svm} and W(\\tau) for each data\n",
        "\n",
        "      datasets = ['data_topic_1', 'data_topic_2', 'data_combine']\n",
        "      ## 3.1 input parameters needed\n",
        "      # Create dictionaries to store the returned values\n",
        "      X_values = {}\n",
        "      idx_token_values = {}\n",
        "      z_values = {}\n",
        "      idx_z_values = {}\n",
        "      C_alpha_values = {}\n",
        "      scc_klst_values = {}\n",
        "      adj_mat_values = {}\n",
        "      w_dir_values = {}\n",
        "      sol_cvx_list_values = {}\n",
        "      Wi_list_values = {}\n",
        "      last_W_tau = {}\n",
        "\n",
        "      for data in datasets:\n",
        "            X, idx_token, z, idx_z, C_alpha, scc_klst, adj_mat = get_input_paras(eval(data))\n",
        "\n",
        "            X_values[data] = X\n",
        "            idx_token_values[data] = idx_token\n",
        "            z_values[data] = z\n",
        "            idx_z_values[data] = idx_z\n",
        "            C_alpha_values[data] = C_alpha\n",
        "            scc_klst_values[data] = scc_klst\n",
        "            adj_mat_values[data] = adj_mat\n",
        "\n",
        "            ## 3.1 get W^{svm} for each data (w_dir_values[data] and sol_cvx_list_values[data][0])\n",
        "            w_dir_values[data] = W_svm_solver_cvxpy(Vocab, n, d, idx_z_values[data], idx_token_values[data],\n",
        "                                                    C_alpha_values[data], onetoken = False, wfin = False,\n",
        "                                                    adj_mat = adj_mat_values[data], scc_lst = scc_klst_values[data])\n",
        "\n",
        "            sol_cvx_list_values[data] = np.zeros((nlayer, d, d))\n",
        "            sol_cvx_list_values[data][0] =  normalize_sol(w_dir_values[data]) # normalized w_dir\n",
        "\n",
        "            ## 3.2 calculate W(\\tau)\n",
        "            model = MLayerAttn(d, regress = True, n_layer = nlayer, dim_t = T,\n",
        "                      identity_W=False, identity_V = True,\n",
        "                      factorize_W = factorize_w, init = initialize_w,\n",
        "                      skip = skip, layer_norm = layer_norm, avg_norm = avg_norm,\n",
        "              ).double()\n",
        "\n",
        "            parameter_list = get_para_list(factorize_w, layer_norm, avg_norm) # general_para_1\n",
        "            optimizer = torch.optim.SGD(parameter_list, lr=lr, ) # general_para_2\n",
        "\n",
        "            Wi_list_values[data] = np.zeros((nlayer, ITN, d, d)) # initialize Wi_list before training\n",
        "            model = train_W(model, X_values[data], idx_token_values[data], z_values[data], token_choice, cls_choice, Vocab,\n",
        "                            C_alpha_values[data], nlayer, n, K, di, ei, ITN, toy_case, batch_toy, scc_klst,\n",
        "                            loss_type, optimizer, norm_grad, parameter_list,\n",
        "                            Wi_list = Wi_list_values[data], attn_probs = attn_probs_values[data], Wi_norm_list = Wi_norm_list_values[data],\n",
        "                          )\n",
        "            ## 3.3 get correlation between W^{svm} and each W(\\tau) (\\tau = 1, 2, ..., ITN)\n",
        "            for it in range(ITN):\n",
        "                      Wi_list_values[data][0, it] /= np.linalg.norm(Wi_list_values[data][0, it])\n",
        "                      if not separa:\n",
        "                            corr_list_values[data][di, 0, ei, it] = Wi_list_values[data][0, it].reshape(-1).dot(sol_cvx_list_values[data][di].reshape(-1))\n",
        "                            # NOTE: the source code is sol_cvx_list[di]!\n",
        "\n",
        "            last_W_tau[data] = Wi_list_values[data][0, ITN-1]\n",
        "\n",
        "            print(\"For\", data, \"correlation of W and Wsvm: \", corr_list_values[data][di, 0, ei, -1])\n",
        "            print(\"----------------------------\")\n",
        "\n",
        "      last_W_epochs[ei] = last_W_tau\n",
        "      X_epochs[ei] = X_values\n",
        "      z_epochs[ei] = z_values\n",
        "      sol_cvx_list_epochs[ei] = sol_cvx_list_values\n",
        "      scc_klst_epochs[ei] = scc_klst_values"
      ],
      "metadata": {
        "colab": {
          "base_uri": "https://localhost:8080/"
        },
        "id": "5XtzAM3S9s_g",
        "outputId": "df65cd7d-d5c4-4df7-d3c9-22822bc97b36"
      },
      "execution_count": 55,
      "outputs": [
        {
          "output_type": "stream",
          "name": "stdout",
          "text": [
            "\n",
            "********************************************\n",
            "Current epoch: 0\n",
            "Norm of grad:  tensor(1.0000, dtype=torch.float64)\n",
            "Current iteration: 0, Loss: 0.8488\n",
            "Current iteration: 500, Loss: 0.2518\n",
            "Norm of grad:  tensor(1.0000, dtype=torch.float64)\n",
            "Current iteration: 1000, Loss: 0.0895\n",
            "Current iteration: 1500, Loss: 0.0324\n",
            "Norm of grad:  tensor(1.0000, dtype=torch.float64)\n",
            "Current iteration: 2000, Loss: 0.0117\n",
            "Current iteration: 2500, Loss: 0.0042\n",
            "Norm of grad:  tensor(1.0000, dtype=torch.float64)\n",
            "Current iteration: 3000, Loss: 0.0015\n",
            "Current iteration: 3500, Loss: 0.0006\n",
            "For data_topic_1 correlation of W and Wsvm:  0.9892327752526906\n",
            "----------------------------\n",
            "Norm of grad:  tensor(1.0000, dtype=torch.float64)\n",
            "Current iteration: 0, Loss: 0.7354\n",
            "Current iteration: 500, Loss: 0.2626\n",
            "Norm of grad:  tensor(1.0000, dtype=torch.float64)\n",
            "Current iteration: 1000, Loss: 0.1032\n",
            "Current iteration: 1500, Loss: 0.0413\n",
            "Norm of grad:  tensor(1.0000, dtype=torch.float64)\n",
            "Current iteration: 2000, Loss: 0.0163\n",
            "Current iteration: 2500, Loss: 0.0063\n",
            "Norm of grad:  tensor(1.0000, dtype=torch.float64)\n",
            "Current iteration: 3000, Loss: 0.0025\n",
            "Current iteration: 3500, Loss: 0.0010\n",
            "For data_topic_2 correlation of W and Wsvm:  0.9901117981951119\n",
            "----------------------------\n",
            "Norm of grad:  tensor(1.0000, dtype=torch.float64)\n",
            "Current iteration: 0, Loss: 0.8814\n",
            "Current iteration: 500, Loss: 0.4022\n",
            "Norm of grad:  tensor(1.0000, dtype=torch.float64)\n",
            "Current iteration: 1000, Loss: 0.2526\n",
            "Current iteration: 1500, Loss: 0.1928\n",
            "Norm of grad:  tensor(1.0000, dtype=torch.float64)\n",
            "Current iteration: 2000, Loss: 0.1677\n",
            "Current iteration: 2500, Loss: 0.1575\n",
            "Norm of grad:  tensor(1.0000, dtype=torch.float64)\n",
            "Current iteration: 3000, Loss: 0.1534\n",
            "Current iteration: 3500, Loss: 0.1517\n",
            "For data_combine correlation of W and Wsvm:  0.9881821777568774\n",
            "----------------------------\n"
          ]
        }
      ]
    },
    {
      "cell_type": "code",
      "source": [
        "labels = [\n",
        "    # r'$W(t)^{onetoken}$',\n",
        "    r'$W(\\tau)^{mm}$',\n",
        "    r'$W(\\tau)$',\n",
        "]\n",
        "\n",
        "for data in datasets:\n",
        "    print('\\n\\n For', data, ':')\n",
        "    show_corr(ITN, dlist, corr_list_values[data], wmm = True, labels = labels)"
      ],
      "metadata": {
        "colab": {
          "base_uri": "https://localhost:8080/",
          "height": 1000
        },
        "id": "3453Oy-f90oS",
        "outputId": "5fd96dda-9d36-4c18-88ff-c50662fececa"
      },
      "execution_count": 56,
      "outputs": [
        {
          "output_type": "stream",
          "name": "stdout",
          "text": [
            "\n",
            "\n",
            " For data_topic_1 :\n",
            "Only shows Wmm\n"
          ]
        },
        {
          "output_type": "display_data",
          "data": {
            "text/plain": [
              "<Figure size 800x600 with 1 Axes>"
            ],
            "image/png": "[encoded data removed]"
          },
          "metadata": {}
        },
        {
          "output_type": "stream",
          "name": "stdout",
          "text": [
            "\n",
            "\n",
            " For data_topic_2 :\n",
            "Only shows Wmm\n"
          ]
        },
        {
          "output_type": "display_data",
          "data": {
            "text/plain": [
              "<Figure size 800x600 with 1 Axes>"
            ],
            "image/png": "[encoded data removed]"
          },
          "metadata": {}
        },
        {
          "output_type": "stream",
          "name": "stdout",
          "text": [
            "\n",
            "\n",
            " For data_combine :\n",
            "Only shows Wmm\n"
          ]
        },
        {
          "output_type": "display_data",
          "data": {
            "text/plain": [
              "<Figure size 800x600 with 1 Axes>"
            ],
            "image/png": "[encoded data removed]"
          },
          "metadata": {}
        }
      ]
    },
    {
      "cell_type": "markdown",
      "source": [
        "### Generate next token"
      ],
      "metadata": {
        "id": "eGdBphEW-QTD"
      }
    },
    {
      "cell_type": "code",
      "source": [
        "# Randomly choose one epoch's data from all epochs for test\n",
        "ei_test = random.choice(range(epochs))\n",
        "ei_test"
      ],
      "metadata": {
        "colab": {
          "base_uri": "https://localhost:8080/"
        },
        "id": "NfVq5EeU9-Kd",
        "outputId": "29e41826-dcb6-44e7-845a-4fd0be206415"
      },
      "execution_count": 57,
      "outputs": [
        {
          "output_type": "execute_result",
          "data": {
            "text/plain": [
              "0"
            ]
          },
          "metadata": {},
          "execution_count": 57
        }
      ]
    },
    {
      "cell_type": "code",
      "source": [
        "# Extract W^{svm}, W_1(\\tau), W_2(\\tau), W_cb(\\tau) of the selected epoch\n",
        "W_svm_test = torch.tensor(sol_cvx_list_epochs[ei_test]['data_topic_1'][0])\n",
        "\n",
        "W_1_test = torch.tensor(last_W_epochs[ei_test]['data_topic_1'])\n",
        "W_2_test = torch.tensor(last_W_epochs[ei_test]['data_topic_2'])\n",
        "W_cb_test = torch.tensor(last_W_epochs[ei_test]['data_combine'])"
      ],
      "metadata": {
        "id": "aRr9n46I-ZOF"
      },
      "execution_count": 58,
      "outputs": []
    },
    {
      "cell_type": "code",
      "source": [
        "y_hat_idx_svm, y_hat_svm, softmax_svm, XWz_n_svm = generate_next_token(ei_test = ei_test, topic = 'data_topic_1', W_test = W_svm_test)\n",
        "y_hat_idx_W1, y_hat_W1, softmax_W1, XWz_n_W1= generate_next_token(ei_test = ei_test, topic = 'data_topic_1', W_test = W_1_test)\n",
        "y_hat_idx_W2, y_hat_W2, softmax_W2, XWz_n_W2 = generate_next_token(ei_test = ei_test, topic = 'data_topic_1', W_test = W_2_test)\n",
        "y_hat_idx_Wcb, y_hat_Wcb, softmax_Wcb, XWz_n_Wcb = generate_next_token(ei_test = ei_test, topic = 'data_topic_1', W_test = W_cb_test)"
      ],
      "metadata": {
        "colab": {
          "base_uri": "https://localhost:8080/"
        },
        "id": "JMILKAR9-cqZ",
        "outputId": "b8a14fc6-3777-46cb-b555-67292d15f9fd"
      },
      "execution_count": 59,
      "outputs": [
        {
          "output_type": "stream",
          "name": "stderr",
          "text": [
            "<ipython-input-38-fa3973bad719>:10: UserWarning: To copy construct from a tensor, it is recommended to use sourceTensor.clone().detach() or sourceTensor.clone().detach().requires_grad_(True), rather than torch.tensor(sourceTensor).\n",
            "  X_i = torch.tensor(X_epochs[ei_test][topic][i])\n"
          ]
        }
      ]
    },
    {
      "cell_type": "markdown",
      "source": [
        "### Compare the Similarity"
      ],
      "metadata": {
        "id": "BVwa5AHH-rx4"
      }
    },
    {
      "cell_type": "code",
      "source": [
        "# check different prediction from topic 1 and topic combination\n",
        "diff_t1_cb = 0 # count # of diff next tokens\n",
        "diff_seqs = [] # save the sequence ID in the input data\n",
        "diff_seqs_last = set() # save the last token ID the difference comes from\n",
        "\n",
        "for i in range(n):\n",
        "\n",
        "    if y_hat_idx_W1[i] != y_hat_idx_Wcb[i]:\n",
        "        diff_t1_cb+=1\n",
        "        diff_seqs.append(i)\n",
        "        print('==============================================================================')\n",
        "        print(\"For\", i, \"sequence:\")\n",
        "        print(\"next token from W1:\", y_hat_idx_W1[i])\n",
        "        print(\"next token from W2:\", y_hat_idx_W2[i])\n",
        "        print(\"next token from Wcb\", y_hat_idx_Wcb[i])\n",
        "        seq = data_epochs[ei_test]['topic_1'][i]\n",
        "        print(\"sequence:\", seq)\n",
        "        last_token = data_epochs[ei_test]['topic_1'][i][0][-1]\n",
        "        diff_seqs_last.add(last_token)\n",
        "        print(\"\\n************** Topic 1 **************\")\n",
        "        print(\"scc_lst for the token\", last_token, \":\", scc_klst_epochs[ei_test]['data_topic_1'][last_token] )\n",
        "        print(\"tpg for the last token\", last_token, \":\", updated_tpgs_epochs[ei_test]['topic_1'][last_token])\n",
        "        print(\"softmax output:\", softmax_W1[i])\n",
        "        print(\"softmax input:\", XWz_n_W1[i])\n",
        "        print(\"\\n************** Topic 2 **************\")\n",
        "        print(\"scc_lst for the token\", last_token,  \":\", scc_klst_epochs[ei_test]['data_topic_2'][last_token] )\n",
        "        print(\"tpg for the last token\", last_token, \":\", updated_tpgs_epochs[ei_test]['topic_2'][last_token])\n",
        "        print(\"softmax output:\", softmax_W2[i])\n",
        "        print(\"softmax input:\", XWz_n_W2[i])\n",
        "        print(\"\\n************** Topic Combination **************\")\n",
        "        print(\"scc_lst for the token\", last_token,  \":\", scc_klst_epochs[ei_test]['data_combine'][last_token] )\n",
        "        print(\"tpg for the last token\", last_token, \":\", updated_tpgs_epochs[ei_test]['combine'][last_token])\n",
        "        print(\"softmax output:\", softmax_Wcb[i])\n",
        "        print(\"softmax input:\", XWz_n_Wcb[i])\n",
        "print(\"Number of different next tokens from Topic 1 and Combine:\", diff_t1_cb, \"out of\", n)"
      ],
      "metadata": {
        "colab": {
          "base_uri": "https://localhost:8080/"
        },
        "id": "WMZYcQTr-wKg",
        "outputId": "0e7c5107-fae6-4d46-d956-8d66c1f0d4f7"
      },
      "execution_count": 60,
      "outputs": [
        {
          "output_type": "stream",
          "name": "stdout",
          "text": [
            "==============================================================================\n",
            "For 18 sequence:\n",
            "next token from W1: 3\n",
            "next token from W2: 1\n",
            "next token from Wcb 1\n",
            "sequence: ([3, 1, 1, 3], 3)\n",
            "\n",
            "************** Topic 1 **************\n",
            "scc_lst for the token 3 : [0, 1, 2, 4, 5, 6, 3, 7]\n",
            "tpg for the last token 3 : [(6, 3), (5, 1), (4, 1), (4, 6), (1, 3), (1, 6), (5, 4)]\n",
            "softmax output: tensor([[0.2815],\n",
            "        [0.2185],\n",
            "        [0.2185],\n",
            "        [0.2815]], dtype=torch.float64)\n",
            "softmax input: tensor([[ 0.1626],\n",
            "        [-0.0910],\n",
            "        [-0.0910],\n",
            "        [ 0.1626]], dtype=torch.float64)\n",
            "\n",
            "************** Topic 2 **************\n",
            "scc_lst for the token 3 : [6, 4, 0, 1, 2, 3, 5, 7]\n",
            "tpg for the last token 3 : [(3, 0), (4, 6), (2, 3), (5, 1), (1, 0), (4, 0), (6, 0), (2, 1), (3, 1), (1, 4), (5, 2)]\n",
            "softmax output: tensor([[0.2257],\n",
            "        [0.2743],\n",
            "        [0.2743],\n",
            "        [0.2257]], dtype=torch.float64)\n",
            "softmax input: tensor([[-0.0693],\n",
            "        [ 0.1260],\n",
            "        [ 0.1260],\n",
            "        [-0.0693]], dtype=torch.float64)\n",
            "\n",
            "************** Topic Combination **************\n",
            "scc_lst for the token 3 : [4, 3, 0, 3, 1, 5, 2, 6]\n",
            "tpg for the last token 3 : [(6, 3), (5, 1), (4, 1), (4, 6), (1, 3), (1, 6), (5, 4), (3, 0), (2, 3), (1, 0), (4, 0), (6, 0), (2, 1), (3, 1), (1, 4), (5, 2)]\n",
            "softmax output: tensor([[0.2439],\n",
            "        [0.2561],\n",
            "        [0.2561],\n",
            "        [0.2439]], dtype=torch.float64)\n",
            "softmax input: tensor([[0.0354],\n",
            "        [0.0843],\n",
            "        [0.0843],\n",
            "        [0.0354]], dtype=torch.float64)\n",
            "==============================================================================\n",
            "For 29 sequence:\n",
            "next token from W1: 6\n",
            "next token from W2: 3\n",
            "next token from Wcb 3\n",
            "sequence: ([6, 3, 3, 6], 6)\n",
            "\n",
            "************** Topic 1 **************\n",
            "scc_lst for the token 6 : [0, 1, 2, 3, 4, 5, 6, 7]\n",
            "tpg for the last token 6 : [(4, 6), (3, 6), (5, 3), (4, 1), (1, 3), (1, 5)]\n",
            "softmax output: tensor([[0.2792],\n",
            "        [0.2208],\n",
            "        [0.2208],\n",
            "        [0.2792]], dtype=torch.float64)\n",
            "softmax input: tensor([[ 0.1534],\n",
            "        [-0.0812],\n",
            "        [-0.0812],\n",
            "        [ 0.1534]], dtype=torch.float64)\n",
            "\n",
            "************** Topic 2 **************\n",
            "scc_lst for the token 6 : [0, 1, 5, 6, 4, 7, 2, 3]\n",
            "tpg for the last token 6 : [(6, 2), (6, 4), (0, 4), (7, 2), (0, 2), (0, 6), (7, 0), (4, 2)]\n",
            "softmax output: tensor([[0.2373],\n",
            "        [0.2627],\n",
            "        [0.2627],\n",
            "        [0.2373]], dtype=torch.float64)\n",
            "softmax input: tensor([[-0.1032],\n",
            "        [-0.0012],\n",
            "        [-0.0012],\n",
            "        [-0.1032]], dtype=torch.float64)\n",
            "\n",
            "************** Topic Combination **************\n",
            "scc_lst for the token 6 : [0, 1, 4, 5, 2, 6, 2, 3]\n",
            "tpg for the last token 6 : [(4, 6), (3, 6), (5, 3), (4, 1), (1, 3), (1, 5), (6, 2), (6, 4), (0, 4), (7, 2), (0, 2), (0, 6), (7, 0), (4, 2)]\n",
            "softmax output: tensor([[0.2458],\n",
            "        [0.2542],\n",
            "        [0.2542],\n",
            "        [0.2458]], dtype=torch.float64)\n",
            "softmax input: tensor([[-0.0340],\n",
            "        [-0.0007],\n",
            "        [-0.0007],\n",
            "        [-0.0340]], dtype=torch.float64)\n",
            "==============================================================================\n",
            "For 37 sequence:\n",
            "next token from W1: 2\n",
            "next token from W2: 2\n",
            "next token from Wcb 1\n",
            "sequence: ([1, 2, 2, 1], 2)\n",
            "\n",
            "************** Topic 1 **************\n",
            "scc_lst for the token 1 : [0, 2, 3, 4, 5, 6, 1, 7]\n",
            "tpg for the last token 1 : [(6, 1), (2, 5), (3, 5), (1, 5), (1, 2), (1, 3), (2, 3)]\n",
            "softmax output: tensor([[0.2290],\n",
            "        [0.2710],\n",
            "        [0.2710],\n",
            "        [0.2290]], dtype=torch.float64)\n",
            "softmax input: tensor([[-0.1785],\n",
            "        [-0.0099],\n",
            "        [-0.0099],\n",
            "        [-0.1785]], dtype=torch.float64)\n",
            "\n",
            "************** Topic 2 **************\n",
            "scc_lst for the token 1 : [0, 2, 4, 5, 6, 1, 7, 3]\n",
            "tpg for the last token 1 : [(1, 2), (6, 5), (3, 6), (7, 2), (3, 1), (5, 1), (1, 7)]\n",
            "softmax output: tensor([[0.2047],\n",
            "        [0.2953],\n",
            "        [0.2953],\n",
            "        [0.2047]], dtype=torch.float64)\n",
            "softmax input: tensor([[-0.1041],\n",
            "        [ 0.2627],\n",
            "        [ 0.2627],\n",
            "        [-0.1041]], dtype=torch.float64)\n",
            "\n",
            "************** Topic Combination **************\n",
            "scc_lst for the token 1 : [0, 3, 4, 2, 5, 3, 1, 6]\n",
            "tpg for the last token 1 : [(6, 1), (2, 5), (3, 5), (1, 5), (1, 2), (1, 3), (2, 3), (6, 5), (3, 6), (7, 2), (3, 1), (5, 1), (1, 7)]\n",
            "softmax output: tensor([[0.2511],\n",
            "        [0.2489],\n",
            "        [0.2489],\n",
            "        [0.2511]], dtype=torch.float64)\n",
            "softmax input: tensor([[0.0182],\n",
            "        [0.0090],\n",
            "        [0.0090],\n",
            "        [0.0182]], dtype=torch.float64)\n",
            "==============================================================================\n",
            "For 51 sequence:\n",
            "next token from W1: 3\n",
            "next token from W2: 1\n",
            "next token from Wcb 1\n",
            "sequence: ([3, 1, 1, 3], 3)\n",
            "\n",
            "************** Topic 1 **************\n",
            "scc_lst for the token 3 : [0, 1, 2, 4, 5, 6, 3, 7]\n",
            "tpg for the last token 3 : [(6, 3), (5, 1), (4, 1), (4, 6), (1, 3), (1, 6), (5, 4)]\n",
            "softmax output: tensor([[0.2815],\n",
            "        [0.2185],\n",
            "        [0.2185],\n",
            "        [0.2815]], dtype=torch.float64)\n",
            "softmax input: tensor([[ 0.1626],\n",
            "        [-0.0910],\n",
            "        [-0.0910],\n",
            "        [ 0.1626]], dtype=torch.float64)\n",
            "\n",
            "************** Topic 2 **************\n",
            "scc_lst for the token 3 : [6, 4, 0, 1, 2, 3, 5, 7]\n",
            "tpg for the last token 3 : [(3, 0), (4, 6), (2, 3), (5, 1), (1, 0), (4, 0), (6, 0), (2, 1), (3, 1), (1, 4), (5, 2)]\n",
            "softmax output: tensor([[0.2257],\n",
            "        [0.2743],\n",
            "        [0.2743],\n",
            "        [0.2257]], dtype=torch.float64)\n",
            "softmax input: tensor([[-0.0693],\n",
            "        [ 0.1260],\n",
            "        [ 0.1260],\n",
            "        [-0.0693]], dtype=torch.float64)\n",
            "\n",
            "************** Topic Combination **************\n",
            "scc_lst for the token 3 : [4, 3, 0, 3, 1, 5, 2, 6]\n",
            "tpg for the last token 3 : [(6, 3), (5, 1), (4, 1), (4, 6), (1, 3), (1, 6), (5, 4), (3, 0), (2, 3), (1, 0), (4, 0), (6, 0), (2, 1), (3, 1), (1, 4), (5, 2)]\n",
            "softmax output: tensor([[0.2439],\n",
            "        [0.2561],\n",
            "        [0.2561],\n",
            "        [0.2439]], dtype=torch.float64)\n",
            "softmax input: tensor([[0.0354],\n",
            "        [0.0843],\n",
            "        [0.0843],\n",
            "        [0.0354]], dtype=torch.float64)\n",
            "==============================================================================\n",
            "For 83 sequence:\n",
            "next token from W1: 3\n",
            "next token from W2: 1\n",
            "next token from Wcb 1\n",
            "sequence: ([3, 1, 1, 3], 3)\n",
            "\n",
            "************** Topic 1 **************\n",
            "scc_lst for the token 3 : [0, 1, 2, 4, 5, 6, 3, 7]\n",
            "tpg for the last token 3 : [(6, 3), (5, 1), (4, 1), (4, 6), (1, 3), (1, 6), (5, 4)]\n",
            "softmax output: tensor([[0.2815],\n",
            "        [0.2185],\n",
            "        [0.2185],\n",
            "        [0.2815]], dtype=torch.float64)\n",
            "softmax input: tensor([[ 0.1626],\n",
            "        [-0.0910],\n",
            "        [-0.0910],\n",
            "        [ 0.1626]], dtype=torch.float64)\n",
            "\n",
            "************** Topic 2 **************\n",
            "scc_lst for the token 3 : [6, 4, 0, 1, 2, 3, 5, 7]\n",
            "tpg for the last token 3 : [(3, 0), (4, 6), (2, 3), (5, 1), (1, 0), (4, 0), (6, 0), (2, 1), (3, 1), (1, 4), (5, 2)]\n",
            "softmax output: tensor([[0.2257],\n",
            "        [0.2743],\n",
            "        [0.2743],\n",
            "        [0.2257]], dtype=torch.float64)\n",
            "softmax input: tensor([[-0.0693],\n",
            "        [ 0.1260],\n",
            "        [ 0.1260],\n",
            "        [-0.0693]], dtype=torch.float64)\n",
            "\n",
            "************** Topic Combination **************\n",
            "scc_lst for the token 3 : [4, 3, 0, 3, 1, 5, 2, 6]\n",
            "tpg for the last token 3 : [(6, 3), (5, 1), (4, 1), (4, 6), (1, 3), (1, 6), (5, 4), (3, 0), (2, 3), (1, 0), (4, 0), (6, 0), (2, 1), (3, 1), (1, 4), (5, 2)]\n",
            "softmax output: tensor([[0.2439],\n",
            "        [0.2561],\n",
            "        [0.2561],\n",
            "        [0.2439]], dtype=torch.float64)\n",
            "softmax input: tensor([[0.0354],\n",
            "        [0.0843],\n",
            "        [0.0843],\n",
            "        [0.0354]], dtype=torch.float64)\n",
            "Number of different next tokens from Topic 1 and Combine: 5 out of 100\n"
          ]
        }
      ]
    },
    {
      "cell_type": "markdown",
      "source": [
        "### Check results"
      ],
      "metadata": {
        "id": "zNNrIloG--Yb"
      }
    },
    {
      "cell_type": "code",
      "source": [
        "# Reproduce the TPG based on the last token from diff_seqs_last\n",
        "input_1 = data_epochs[ei_test]['topic_1']\n",
        "input_2 = data_epochs[ei_test]['topic_2']\n",
        "input_combine = data_epochs[ei_test]['combine']\n",
        "for item in diff_seqs_last:\n",
        "  extract_input_1 = [seq for seq in input_1 if seq[0][-1] == item]\n",
        "  extract_input_2 = [seq for seq in input_2 if seq[0][-1] == item]\n",
        "  extract_input_combine = [seq for seq in input_combine if seq[0][-1] == item]\n",
        "  print(\"\\n================================================================\\n\")\n",
        "  print(f\"Seqences with the last token {item}:\")\n",
        "  print(\"extracted_input_topic_1:\", extract_input_1)\n",
        "  print(\"extracted_input_topic_2:\", extract_input_2)\n",
        "  print(\"extracted_input_topic_combine:\", extract_input_combine)\n",
        "  print(\"scc_topic_1:\", scc_klst_epochs[ei_test]['data_topic_1'][item])\n",
        "  print(\"scc_topic_2:\", scc_klst_epochs[ei_test]['data_topic_2'][item])\n",
        "  print(\"scc_topic_combine:\", scc_klst_epochs[ei_test]['data_combine'][item])\n",
        "  print(\"tpgs_topic_1:\", updated_tpgs_epochs[ei_test]['topic_1'][item])\n",
        "  print(\"tpgs_topic_2:\", updated_tpgs_epochs[ei_test]['topic_2'][item])\n",
        "  print(\"tpgs_topic_combine:\", updated_tpgs_epochs[ei_test]['combine'][item])"
      ],
      "metadata": {
        "colab": {
          "base_uri": "https://localhost:8080/"
        },
        "id": "Rjtux30q_Afy",
        "outputId": "3a5d8778-36d4-497c-f592-5ea29c4602f0"
      },
      "execution_count": 61,
      "outputs": [
        {
          "output_type": "stream",
          "name": "stdout",
          "text": [
            "\n",
            "================================================================\n",
            "\n",
            "Seqences with the last token 1:\n",
            "extracted_input_topic_1: [([6, 6, 1, 1], 1), ([3, 3, 3, 1], 3), ([3, 3, 5, 1], 5), ([1, 2, 2, 1], 2), ([2, 2, 3, 1], 3), ([2, 2, 2, 1], 2), ([3, 3, 3, 1], 3), ([1, 1, 1, 1], 1), ([2, 2, 2, 1], 2), ([5, 3, 5, 1], 5), ([2, 3, 1, 1], 3), ([6, 6, 1, 1], 1), ([1, 5, 3, 1], 5), ([3, 2, 5, 1], 5), ([5, 5, 5, 1], 5)]\n",
            "extracted_input_topic_2: [([7, 1, 7, 1], 7), ([5, 1, 1, 1], 1), ([1, 1, 1, 1], 1), ([7, 2, 7, 1], 2), ([1, 1, 7, 1], 7)]\n",
            "extracted_input_topic_combine: [([7, 1, 7, 1], 7), ([3, 5, 1, 1], 1), ([1, 6, 5, 1], 5), ([1, 7, 7, 1], 7), ([5, 1, 1, 1], 1), ([1, 6, 5, 1], 5), ([1, 7, 1, 1], 7), ([3, 6, 1, 1], 1)]\n",
            "scc_topic_1: [0, 2, 3, 4, 5, 6, 1, 7]\n",
            "scc_topic_2: [0, 2, 4, 5, 6, 1, 7, 3]\n",
            "scc_topic_combine: [0, 3, 4, 2, 5, 3, 1, 6]\n",
            "tpgs_topic_1: [(6, 1), (2, 5), (3, 5), (1, 5), (1, 2), (1, 3), (2, 3)]\n",
            "tpgs_topic_2: [(1, 2), (6, 5), (3, 6), (7, 2), (3, 1), (5, 1), (1, 7)]\n",
            "tpgs_topic_combine: [(6, 1), (2, 5), (3, 5), (1, 5), (1, 2), (1, 3), (2, 3), (6, 5), (3, 6), (7, 2), (3, 1), (5, 1), (1, 7)]\n",
            "\n",
            "================================================================\n",
            "\n",
            "Seqences with the last token 3:\n",
            "extracted_input_topic_1: [([3, 3, 3, 3], 3), ([3, 3, 3, 3], 3), ([3, 6, 3, 3], 3), ([6, 3, 3, 3], 3), ([1, 3, 3, 3], 3), ([3, 1, 1, 3], 3), ([3, 6, 6, 3], 3), ([3, 3, 1, 3], 3), ([3, 6, 3, 3], 3), ([3, 1, 1, 3], 3), ([1, 3, 3, 3], 3), ([3, 6, 1, 3], 3), ([6, 3, 1, 3], 3), ([3, 1, 1, 3], 3), ([3, 6, 3, 3], 3)]\n",
            "extracted_input_topic_2: [([1, 2, 2, 3], 1), ([3, 3, 2, 3], 3), ([1, 3, 0, 3], 0), ([0, 4, 0, 3], 0), ([4, 0, 0, 3], 0), ([5, 5, 1, 3], 1), ([3, 6, 0, 3], 0), ([2, 1, 5, 3], 1), ([1, 0, 3, 3], 0), ([0, 4, 6, 3], 0), ([0, 1, 1, 3], 0), ([1, 5, 5, 3], 1), ([0, 4, 3, 3], 0), ([2, 3, 2, 3], 3), ([1, 5, 1, 3], 1)]\n",
            "extracted_input_topic_combine: [([0, 1, 0, 3], 0), ([3, 4, 1, 3], 1), ([6, 3, 3, 3], 3), ([1, 3, 3, 3], 3), ([4, 0, 0, 3], 0), ([3, 2, 3, 3], 3), ([2, 1, 4, 3], 1), ([3, 1, 3, 3], 1)]\n",
            "scc_topic_1: [0, 1, 2, 4, 5, 6, 3, 7]\n",
            "scc_topic_2: [6, 4, 0, 1, 2, 3, 5, 7]\n",
            "scc_topic_combine: [4, 3, 0, 3, 1, 5, 2, 6]\n",
            "tpgs_topic_1: [(6, 3), (5, 1), (4, 1), (4, 6), (1, 3), (1, 6), (5, 4)]\n",
            "tpgs_topic_2: [(3, 0), (4, 6), (2, 3), (5, 1), (1, 0), (4, 0), (6, 0), (2, 1), (3, 1), (1, 4), (5, 2)]\n",
            "tpgs_topic_combine: [(6, 3), (5, 1), (4, 1), (4, 6), (1, 3), (1, 6), (5, 4), (3, 0), (2, 3), (1, 0), (4, 0), (6, 0), (2, 1), (3, 1), (1, 4), (5, 2)]\n",
            "\n",
            "================================================================\n",
            "\n",
            "Seqences with the last token 6:\n",
            "extracted_input_topic_1: [([6, 6, 6, 6], 6), ([4, 6, 6, 6], 6), ([6, 3, 3, 6], 6), ([6, 4, 6, 6], 6), ([6, 6, 4, 6], 6), ([6, 3, 4, 6], 6), ([3, 6, 6, 6], 6), ([4, 6, 3, 6], 6)]\n",
            "extracted_input_topic_2: [([6, 4, 4, 6], 4), ([0, 4, 4, 6], 4), ([6, 6, 0, 6], 6), ([6, 4, 2, 6], 2), ([4, 4, 0, 6], 4), ([6, 2, 7, 6], 2), ([6, 0, 0, 6], 6), ([6, 6, 0, 6], 6), ([0, 6, 6, 6], 6), ([4, 4, 4, 6], 4), ([6, 6, 4, 6], 4), ([2, 6, 7, 6], 2), ([4, 0, 4, 6], 4), ([4, 0, 2, 6], 2), ([0, 6, 4, 6], 4), ([6, 6, 0, 6], 6), ([7, 2, 2, 6], 2), ([4, 0, 4, 6], 4), ([6, 6, 4, 6], 4), ([4, 4, 0, 6], 4), ([4, 4, 4, 6], 4)]\n",
            "extracted_input_topic_combine: [([6, 4, 6, 6], 4), ([0, 2, 2, 6], 2), ([6, 6, 4, 6], 6), ([0, 7, 2, 6], 2), ([2, 2, 4, 6], 2), ([7, 4, 2, 6], 2), ([4, 4, 4, 6], 4), ([6, 2, 4, 6], 2), ([0, 6, 2, 6], 2), ([0, 6, 4, 6], 4), ([2, 6, 7, 6], 2), ([6, 4, 4, 6], 4), ([4, 4, 0, 6], 4), ([7, 2, 4, 6], 2), ([4, 0, 0, 6], 4), ([2, 7, 0, 6], 2), ([2, 7, 4, 6], 2)]\n",
            "scc_topic_1: [0, 1, 2, 3, 4, 5, 6, 7]\n",
            "scc_topic_2: [0, 1, 5, 6, 4, 7, 2, 3]\n",
            "scc_topic_combine: [0, 1, 4, 5, 2, 6, 2, 3]\n",
            "tpgs_topic_1: [(4, 6), (3, 6), (5, 3), (4, 1), (1, 3), (1, 5)]\n",
            "tpgs_topic_2: [(6, 2), (6, 4), (0, 4), (7, 2), (0, 2), (0, 6), (7, 0), (4, 2)]\n",
            "tpgs_topic_combine: [(4, 6), (3, 6), (5, 3), (4, 1), (1, 3), (1, 5), (6, 2), (6, 4), (0, 4), (7, 2), (0, 2), (0, 6), (7, 0), (4, 2)]\n"
          ]
        }
      ]
    },
    {
      "cell_type": "code",
      "source": [
        "endtime = time.time()\n",
        "print(endtime - starttime)"
      ],
      "metadata": {
        "id": "upYSDWU3-a3U",
        "colab": {
          "base_uri": "https://localhost:8080/"
        },
        "outputId": "8089b291-0662-42aa-9c8b-ce2b5728a257"
      },
      "execution_count": 52,
      "outputs": [
        {
          "output_type": "stream",
          "name": "stdout",
          "text": [
            "7871.494847536087\n"
          ]
        }
      ]
    }
  ]
}